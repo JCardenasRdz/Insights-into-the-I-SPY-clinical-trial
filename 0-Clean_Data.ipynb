{
 "cells": [
  {
   "cell_type": "markdown",
   "metadata": {},
   "source": [
    "<h1><center> Clean and Organize data for the I-SPY1 Clinical Trial</center></h1>"
   ]
  },
  {
   "cell_type": "code",
   "execution_count": 13,
   "metadata": {},
   "outputs": [],
   "source": [
    "# load module by Julio and pandas\n",
    "from ispy1 import clean_data\n",
    "import pandas as pd\n",
    "\n",
    "file = './data/I-SPY_1_All_Patient_Clinical_and_Outcome_Data.xlsx'\n",
    "df = clean_data.clean_my_data(file)\n",
    "df.head(2)\n",
    "\n",
    "# save clean data in new  csv file\n",
    "df.to_csv('./data/I-SPY_1_clean_data.csv')"
   ]
  }
 ],
 "metadata": {
  "anaconda-cloud": {},
  "kernelspec": {
   "display_name": "Python [conda root]",
   "language": "python",
   "name": "conda-root-py"
  },
  "language_info": {
   "codemirror_mode": {
    "name": "ipython",
    "version": 3
   },
   "file_extension": ".py",
   "mimetype": "text/x-python",
   "name": "python",
   "nbconvert_exporter": "python",
   "pygments_lexer": "ipython3",
   "version": "3.5.2"
  }
 },
 "nbformat": 4,
 "nbformat_minor": 2
}
