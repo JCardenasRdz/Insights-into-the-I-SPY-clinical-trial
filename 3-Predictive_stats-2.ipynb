{
 "cells": [
  {
   "cell_type": "markdown",
   "metadata": {},
   "source": [
    "<h1><center> Predictive statistics on the I-SPY1 Clinical Trial</center></h1>"
   ]
  },
  {
   "cell_type": "markdown",
   "metadata": {},
   "source": [
    "### 0. Load modules and clean data"
   ]
  },
  {
   "cell_type": "code",
   "execution_count": 25,
   "metadata": {},
   "outputs": [],
   "source": [
    "import pandas as pd\n",
    "import matplotlib.pyplot as plt\n",
    "import numpy as np\n",
    "%matplotlib inline\n",
    "# import custom modules wrote by julio\n",
    "from ispy1 import predictive_statistics\n",
    "\n",
    "# reload modules without restartign the kernel (makes development easier)\n",
    "import importlib\n",
    "importlib.reload(predictive_statistics);"
   ]
  },
  {
   "cell_type": "code",
   "execution_count": 18,
   "metadata": {},
   "outputs": [
    {
     "data": {
      "text/html": [
       "<div>\n",
       "<style>\n",
       "    .dataframe thead tr:only-child th {\n",
       "        text-align: right;\n",
       "    }\n",
       "\n",
       "    .dataframe thead th {\n",
       "        text-align: left;\n",
       "    }\n",
       "\n",
       "    .dataframe tbody tr th {\n",
       "        vertical-align: top;\n",
       "    }\n",
       "</style>\n",
       "<table border=\"1\" class=\"dataframe\">\n",
       "  <thead>\n",
       "    <tr style=\"text-align: right;\">\n",
       "      <th></th>\n",
       "      <th>SUBJECTID</th>\n",
       "      <th>age</th>\n",
       "      <th>White</th>\n",
       "      <th>ER+</th>\n",
       "      <th>PR+</th>\n",
       "      <th>HR+</th>\n",
       "      <th>Bilateral</th>\n",
       "      <th>Right_Breast</th>\n",
       "      <th>MRI_LD_Baseline</th>\n",
       "      <th>MRI_LD_1_3dAC</th>\n",
       "      <th>MRI_LD_Int_Reg</th>\n",
       "      <th>MRI_LD_PreSurg</th>\n",
       "      <th>Alive</th>\n",
       "      <th>Survival_length</th>\n",
       "      <th>RFS</th>\n",
       "      <th>RFS_code</th>\n",
       "      <th>PCR</th>\n",
       "      <th>RCB</th>\n",
       "    </tr>\n",
       "  </thead>\n",
       "  <tbody>\n",
       "    <tr>\n",
       "      <th>0</th>\n",
       "      <td>1001</td>\n",
       "      <td>38.73</td>\n",
       "      <td>Yes</td>\n",
       "      <td>Yes</td>\n",
       "      <td>No</td>\n",
       "      <td>Yes</td>\n",
       "      <td>No</td>\n",
       "      <td>No</td>\n",
       "      <td>88.0</td>\n",
       "      <td>78.0</td>\n",
       "      <td>30.0</td>\n",
       "      <td>14.0</td>\n",
       "      <td>No</td>\n",
       "      <td>1264</td>\n",
       "      <td>751</td>\n",
       "      <td>1</td>\n",
       "      <td>No</td>\n",
       "      <td>2.0</td>\n",
       "    </tr>\n",
       "    <tr>\n",
       "      <th>1</th>\n",
       "      <td>1002</td>\n",
       "      <td>37.79</td>\n",
       "      <td>Yes</td>\n",
       "      <td>Yes</td>\n",
       "      <td>Yes</td>\n",
       "      <td>Yes</td>\n",
       "      <td>No</td>\n",
       "      <td>Yes</td>\n",
       "      <td>29.0</td>\n",
       "      <td>26.0</td>\n",
       "      <td>66.0</td>\n",
       "      <td>16.0</td>\n",
       "      <td>No</td>\n",
       "      <td>1155</td>\n",
       "      <td>1043</td>\n",
       "      <td>1</td>\n",
       "      <td>No</td>\n",
       "      <td>3.0</td>\n",
       "    </tr>\n",
       "  </tbody>\n",
       "</table>\n",
       "</div>"
      ],
      "text/plain": [
       "   SUBJECTID    age White  ER+  PR+  HR+ Bilateral Right_Breast  \\\n",
       "0       1001  38.73   Yes  Yes   No  Yes        No           No   \n",
       "1       1002  37.79   Yes  Yes  Yes  Yes        No          Yes   \n",
       "\n",
       "   MRI_LD_Baseline  MRI_LD_1_3dAC  MRI_LD_Int_Reg  MRI_LD_PreSurg Alive  \\\n",
       "0             88.0           78.0            30.0            14.0    No   \n",
       "1             29.0           26.0            66.0            16.0    No   \n",
       "\n",
       "   Survival_length   RFS  RFS_code PCR  RCB  \n",
       "0             1264   751         1  No  2.0  \n",
       "1             1155  1043         1  No  3.0  "
      ]
     },
     "execution_count": 18,
     "metadata": {},
     "output_type": "execute_result"
    }
   ],
   "source": [
    "df = pd.read_csv('./data/I-SPY_1_clean_data.csv')\n",
    "df.head(2)"
   ]
  },
  {
   "cell_type": "markdown",
   "metadata": {},
   "source": [
    "<h1><center> Prediction of categorical outcomes</center></h1>"
   ]
  },
  {
   "cell_type": "markdown",
   "metadata": {},
   "source": [
    "## 1.0 Pathological Complete Response (PCR)"
   ]
  },
  {
   "cell_type": "code",
   "execution_count": 61,
   "metadata": {},
   "outputs": [
    {
     "data": {
      "image/png": "[encoded data removed]",
      "text/plain": [
       "<matplotlib.figure.Figure at 0x1147579e8>"
      ]
     },
     "metadata": {},
     "output_type": "display_data"
    }
   ],
   "source": [
    "# check how unbalanced the data are\n",
    "outcome = 'PCR'\n",
    "df[outcome].value_counts(normalize = True).plot.barh();\n",
    "plt.title('Normalized Sample size for PCR')\n",
    "plt.xlabel('group size (%)');\n",
    "plt.savefig('Sample_Size_PCR.png')"
   ]
  },
  {
   "cell_type": "code",
   "execution_count": 20,
   "metadata": {},
   "outputs": [],
   "source": [
    "# allocate continous predictors\n",
    "cont_predictors = ['age','MRI_LD_Baseline', 'MRI_LD_1_3dAC', 'MRI_LD_Int_Reg', 'MRI_LD_PreSurg']\n",
    "X_cont = df[cont_predictors].values\n",
    "\n",
    "# allocate clinical predictors\n",
    "cat_predictors = ['White', 'ER+', 'PR+', 'HR+'];\n",
    "X_cat = pd.pandas.get_dummies(df[cat_predictors], drop_first=True).values\n",
    "\n",
    "# allocate a single predictors matrix X\n",
    "X = np.concatenate( (X_cont, X_cat), axis=1)\n",
    "\n",
    "# allocate  outcome \n",
    "outcome = 'PCR'\n",
    "y = predictive_statistics.labels_to_numbers(df, outcome);"
   ]
  },
  {
   "cell_type": "markdown",
   "metadata": {},
   "source": [
    "## Why Kappa is a good metric"
   ]
  },
  {
   "cell_type": "code",
   "execution_count": 21,
   "metadata": {},
   "outputs": [
    {
     "name": "stdout",
     "output_type": "stream",
     "text": [
      "             precision    recall  f1-score   support\n",
      "\n",
      "          0       1.00      0.74      0.85       167\n",
      "          1       0.02      1.00      0.04         1\n",
      "\n",
      "avg / total       0.99      0.74      0.84       168\n",
      "\n",
      "Kappa = 0.032\n",
      "AUC = 0.868\n",
      "Accuracy = 0.738\n"
     ]
    }
   ],
   "source": [
    "from sklearn import metrics\n",
    "\n",
    "def mymetrics(ypredicted, yexpected):\n",
    "    print(metrics.classification_report(ypredicted, yexpected))\n",
    "    k = metrics.cohen_kappa_score(ypredicted, yexpected); k = np.round(k,3);\n",
    "    auc = metrics.roc_auc_score(ypredicted, yexpected);   auc  = np.round(auc,3);\n",
    "    accuracy = metrics.accuracy_score(ypredicted, yexpected); accuracy = np.round(accuracy,3);\n",
    "\n",
    "    print(\"Kappa = \" + str(k))\n",
    "    print(\"AUC = \" + str(auc))\n",
    "    print(\"Accuracy = \" + str(accuracy))\n",
    "\n",
    "# make at least one observation positive\n",
    "y_crazy = np.zeros_like(y)\n",
    "y_crazy[np.argwhere(y>0)[0]] = 1\n",
    "mymetrics(y_crazy, y)"
   ]
  },
  {
   "cell_type": "markdown",
   "metadata": {},
   "source": [
    "- ### logistic Regression"
   ]
  },
  {
   "cell_type": "code",
   "execution_count": 45,
   "metadata": {},
   "outputs": [
    {
     "name": "stdout",
     "output_type": "stream",
     "text": [
      "             precision    recall  f1-score   support\n",
      "\n",
      "          0       0.77      0.87      0.82        39\n",
      "          1       0.29      0.17      0.21        12\n",
      "\n",
      "avg / total       0.66      0.71      0.68        51\n",
      "\n",
      "The estimated Cohen kappa is 0.0449438202247\n",
      "The estimated AUC is 0.519\n",
      "============================================================\n",
      "\n",
      "\n",
      "\n",
      "Data was oversampled using the ADASYN method\n",
      "             precision    recall  f1-score   support\n",
      "\n",
      "          0       0.82      0.72      0.77        39\n",
      "          1       0.35      0.50      0.41        12\n",
      "\n",
      "avg / total       0.71      0.67      0.68        51\n",
      "\n",
      "The estimated Cohen kappa is 0.190476190476\n",
      "The estimated AUC is 0.609\n",
      "============================================================\n",
      "\n",
      "\n",
      "\n"
     ]
    },
    {
     "data": {
      "image/png": "[encoded data removed]",
      "text/plain": [
       "<matplotlib.figure.Figure at 0x1028c5d30>"
      ]
     },
     "metadata": {},
     "output_type": "display_data"
    }
   ],
   "source": [
    "# standard\n",
    "auc1, kappa1, fpr1, tpr1 = predictive_statistics.Logistic_Regression(X, y, oversample = False)\n",
    "\n",
    "# oversampled\n",
    "auc2, kappa2, fpr2, tpr2 = predictive_statistics.Logistic_Regression(X, y, oversample = True, K_neighbors = 4)\n",
    "\n",
    "title ='Effect of oversampling on Logistic Regression for PCR'\n",
    "predictive_statistics.plot_compare_roc(fpr1, tpr1,fpr2, tpr2, auc1, auc2, title = title)\n",
    "plt.savefig('PCR_Logistic.png')"
   ]
  },
  {
   "cell_type": "markdown",
   "metadata": {},
   "source": [
    "- ### random forests"
   ]
  },
  {
   "cell_type": "code",
   "execution_count": 43,
   "metadata": {},
   "outputs": [
    {
     "name": "stdout",
     "output_type": "stream",
     "text": [
      "             precision    recall  f1-score   support\n",
      "\n",
      "          0       0.80      0.92      0.86        39\n",
      "          1       0.50      0.25      0.33        12\n",
      "\n",
      "avg / total       0.73      0.76      0.73        51\n",
      "\n",
      "The estimated Cohen kappa is 0.209302325581\n",
      "The estimated AUC is 0.587\n",
      "============================================================\n",
      "\n",
      "\n",
      "\n"
     ]
    },
    {
     "data": {
      "image/png": "[encoded data removed]",
      "text/plain": [
       "<matplotlib.figure.Figure at 0x104dd34a8>"
      ]
     },
     "metadata": {},
     "output_type": "display_data"
    },
    {
     "name": "stdout",
     "output_type": "stream",
     "text": [
      "Data was oversampled using the ADASYN method\n",
      "             precision    recall  f1-score   support\n",
      "\n",
      "          0       0.79      0.87      0.83        39\n",
      "          1       0.38      0.25      0.30        12\n",
      "\n",
      "avg / total       0.69      0.73      0.70        51\n",
      "\n",
      "The estimated Cohen kappa is 0.13768115942\n",
      "The estimated AUC is 0.561\n",
      "============================================================\n",
      "\n",
      "\n",
      "\n"
     ]
    },
    {
     "data": {
      "text/plain": [
       "<matplotlib.figure.Figure at 0x104dd3940>"
      ]
     },
     "metadata": {},
     "output_type": "display_data"
    },
    {
     "data": {
      "image/png": "[encoded data removed]",
      "text/plain": [
       "<matplotlib.figure.Figure at 0x115543668>"
      ]
     },
     "metadata": {},
     "output_type": "display_data"
    },
    {
     "data": {
      "text/plain": [
       "<matplotlib.figure.Figure at 0x1143dceb8>"
      ]
     },
     "metadata": {},
     "output_type": "display_data"
    }
   ],
   "source": [
    "# standard\n",
    "auc1, kappa1, fpr1, tpr1, forest = predictive_statistics.RandomForest_Classifier(X, y,oversample=False)\n",
    "t ='Feature Importance for RFC unbalanced'\n",
    "predictive_statistics.plot_forest_feature_importances_(forest, cont_predictors + cat_predictors, title = t)\n",
    "plt.savefig('RFC_std_PCR.png')\n",
    "\n",
    "# unbalanced learning\n",
    "auc2, kappa2, fpr2, tpr2, Forest = predictive_statistics.RandomForest_Classifier(X, y, oversample=True, K_neighbors = 5)\n",
    "t ='Feature Importance for RFC ADASYN'\n",
    "predictive_statistics.plot_forest_feature_importances_(Forest, cont_predictors + cat_predictors, title = t)\n",
    "plt.savefig('RFC_Adasyn_PCR.png')"
   ]
  },
  {
   "cell_type": "code",
   "execution_count": 41,
   "metadata": {},
   "outputs": [
    {
     "data": {
      "image/png": "[encoded data removed]",
      "text/plain": [
       "<matplotlib.figure.Figure at 0x1149f14e0>"
      ]
     },
     "metadata": {},
     "output_type": "display_data"
    }
   ],
   "source": [
    "# compare\n",
    "title ='Effect of oversampling on RFC for PCR'\n",
    "predictive_statistics.plot_compare_roc(fpr1, tpr1,fpr2, tpr2, auc1, auc2, title = title)\n",
    "plt.savefig('RFC_std_PCR.png')"
   ]
  },
  {
   "cell_type": "code",
   "execution_count": 56,
   "metadata": {},
   "outputs": [
    {
     "name": "stdout",
     "output_type": "stream",
     "text": [
      "Data was oversampled using the ADASYN method\n",
      "             precision    recall  f1-score   support\n",
      "\n",
      "          0       0.36      0.45      0.40        11\n",
      "          1       0.84      0.78      0.81        40\n",
      "\n",
      "avg / total       0.73      0.71      0.72        51\n",
      "\n",
      "The estimated Cohen kappa is 0.208893485005\n",
      "The estimated AUC is 0.615\n",
      "============================================================\n",
      "\n",
      "\n",
      "\n",
      "Data was oversampled using the ADASYN method\n",
      "             precision    recall  f1-score   support\n",
      "\n",
      "          0       0.36      0.36      0.36        11\n",
      "          1       0.82      0.82      0.82        40\n",
      "\n",
      "avg / total       0.73      0.73      0.73        51\n",
      "\n",
      "The estimated Cohen kappa is 0.188636363636\n",
      "The estimated AUC is 0.594\n",
      "============================================================\n",
      "\n",
      "\n",
      "\n",
      "Data was oversampled using the ADASYN method\n",
      "             precision    recall  f1-score   support\n",
      "\n",
      "          0       0.33      0.45      0.38        11\n",
      "          1       0.83      0.75      0.79        40\n",
      "\n",
      "avg / total       0.73      0.69      0.70        51\n",
      "\n",
      "The estimated Cohen kappa is 0.180722891566\n",
      "The estimated AUC is 0.602\n",
      "============================================================\n",
      "\n",
      "\n",
      "\n"
     ]
    }
   ],
   "source": [
    "K = [4,5,6]\n",
    "for k in K:\n",
    "    predictive_statistics.Logistic_Regression(X, y, oversample=True, K_neighbors = k)\n"
   ]
  },
  {
   "cell_type": "markdown",
   "metadata": {},
   "source": [
    "## 2.0 Survival (`Alive`) using Logistic Regression"
   ]
  },
  {
   "cell_type": "code",
   "execution_count": 46,
   "metadata": {},
   "outputs": [
    {
     "data": {
      "image/png": "[encoded data removed]",
      "text/plain": [
       "<matplotlib.figure.Figure at 0x11466fac8>"
      ]
     },
     "metadata": {},
     "output_type": "display_data"
    }
   ],
   "source": [
    "# allocate  outcome \n",
    "outcome = 'Alive'\n",
    "y = predictive_statistics.labels_to_numbers(df, outcome);\n",
    "\n",
    "# check how unbalanced the data are\n",
    "df[outcome].value_counts(normalize = True).plot.barh();\n",
    "plt.title('Normalized Sample size for Alive')\n",
    "plt.xlabel('group size (%)');\n",
    "plt.savefig('Sample_Size_Alive.png')"
   ]
  },
  {
   "cell_type": "markdown",
   "metadata": {},
   "source": [
    "- ### Logistic Regression"
   ]
  },
  {
   "cell_type": "code",
   "execution_count": 57,
   "metadata": {},
   "outputs": [
    {
     "name": "stdout",
     "output_type": "stream",
     "text": [
      "             precision    recall  f1-score   support\n",
      "\n",
      "          0       0.50      0.27      0.35        11\n",
      "          1       0.82      0.93      0.87        40\n",
      "\n",
      "avg / total       0.75      0.78      0.76        51\n",
      "\n",
      "The estimated Cohen kappa is 0.236734693878\n",
      "The estimated AUC is 0.599\n",
      "============================================================\n",
      "\n",
      "\n",
      "\n",
      "Data was oversampled using the ADASYN method\n",
      "             precision    recall  f1-score   support\n",
      "\n",
      "          0       0.36      0.45      0.40        11\n",
      "          1       0.84      0.78      0.81        40\n",
      "\n",
      "avg / total       0.73      0.71      0.72        51\n",
      "\n",
      "The estimated Cohen kappa is 0.208893485005\n",
      "The estimated AUC is 0.615\n",
      "============================================================\n",
      "\n",
      "\n",
      "\n"
     ]
    }
   ],
   "source": [
    "# standard\n",
    "auc1, kappa1, fpr1, tpr1 = predictive_statistics.Logistic_Regression(X, y)\n",
    "\n",
    "# unbalanced learning\n",
    "auc2, kappa2, fpr2, tpr2 = predictive_statistics.Logistic_Regression(X, y, oversample=True, K_neighbors = 4)"
   ]
  },
  {
   "cell_type": "code",
   "execution_count": 58,
   "metadata": {},
   "outputs": [
    {
     "data": {
      "image/png": "[encoded data removed]",
      "text/plain": [
       "<matplotlib.figure.Figure at 0x1149ec940>"
      ]
     },
     "metadata": {},
     "output_type": "display_data"
    }
   ],
   "source": [
    "title ='Effect of oversampling on Logistic Regression for Alive'\n",
    "predictive_statistics.plot_compare_roc(fpr1, tpr1,fpr2, tpr2, auc1, auc2, title = title)\n",
    "plt.savefig('Alive_Logistic.png')"
   ]
  },
  {
   "cell_type": "markdown",
   "metadata": {},
   "source": [
    "- ### random forests"
   ]
  },
  {
   "cell_type": "code",
   "execution_count": 59,
   "metadata": {},
   "outputs": [
    {
     "name": "stdout",
     "output_type": "stream",
     "text": [
      "             precision    recall  f1-score   support\n",
      "\n",
      "          0       0.38      0.27      0.32        11\n",
      "          1       0.81      0.88      0.84        40\n",
      "\n",
      "avg / total       0.72      0.75      0.73        51\n",
      "\n",
      "The estimated Cohen kappa is 0.16393442623\n",
      "The estimated AUC is 0.574\n",
      "============================================================\n",
      "\n",
      "\n",
      "\n",
      "Data was oversampled using the ADASYN method\n",
      "             precision    recall  f1-score   support\n",
      "\n",
      "          0       0.67      0.36      0.47        11\n",
      "          1       0.84      0.95      0.89        40\n",
      "\n",
      "avg / total       0.81      0.82      0.80        51\n",
      "\n",
      "The estimated Cohen kappa is 0.375510204082\n",
      "The estimated AUC is 0.657\n",
      "============================================================\n",
      "\n",
      "\n",
      "\n"
     ]
    },
    {
     "data": {
      "image/png": "[encoded data removed]",
      "text/plain": [
       "<matplotlib.figure.Figure at 0x1143ba7b8>"
      ]
     },
     "metadata": {},
     "output_type": "display_data"
    }
   ],
   "source": [
    "# standard\n",
    "auc1, kappa1, fpr1, tpr1, _= predictive_statistics.RandomForest_Classifier(X, y)\n",
    "\n",
    "# unbalanced learning\n",
    "auc2, kappa2, fpr2, tpr2, _= predictive_statistics.RandomForest_Classifier(X, y, oversample=True, K_neighbors = 6)\n",
    "\n",
    "title ='Effect of oversampling on RFC for PCR'\n",
    "predictive_statistics.plot_compare_roc(fpr1, tpr1,fpr2, tpr2, auc1, auc2, title = title)\n",
    "plt.savefig('Alive_RFC.png')"
   ]
  },
  {
   "cell_type": "markdown",
   "metadata": {},
   "source": [
    "## 3.0 Survival (`Alive`) including PCR as predictor"
   ]
  },
  {
   "cell_type": "code",
   "execution_count": null,
   "metadata": {},
   "outputs": [],
   "source": [
    "# allocate new predictor variable\n",
    "pcr = predictive_statistics.labels_to_numbers(df, 'PCR').reshape(168,1)\n",
    "newX = np.concatenate((X,pcr), axis  = 1)\n",
    "\n",
    "# standard\n",
    "auc1, kappa1, fpr1, tpr1 = Logistic_Regression(newX, y)\n",
    "\n",
    "# unbalanced learning\n",
    "auc2, kappa2, fpr2, tpr2 = Logistic_Regression(newX, y, oversample=True, K_neighbors = 10)"
   ]
  },
  {
   "cell_type": "code",
   "execution_count": null,
   "metadata": {},
   "outputs": [],
   "source": [
    "title ='Effect of oversampling on Logistic Regression for Alive (PCR included)'\n",
    "plot_compare_roc(fpr1, tpr1,fpr2, tpr2, auc1, auc2, title = title)"
   ]
  },
  {
   "cell_type": "markdown",
   "metadata": {},
   "source": [
    "## 4.0 Survival (`Alive`) including `RCB` as predictor"
   ]
  },
  {
   "cell_type": "code",
   "execution_count": null,
   "metadata": {},
   "outputs": [],
   "source": [
    "rcb = pd.get_dummies(df['RCB']).values\n",
    "newX = np.concatenate((X,rcb), axis  = 1)\n",
    "\n",
    "# standard\n",
    "auc1, kappa1, fpr1, tpr1 = Logistic_Regression(newX, y)\n",
    "\n",
    "# unbalanced learning\n",
    "auc2, kappa2, fpr2, tpr2 = Logistic_Regression(newX, y, oversample=True, K_neighbors = 10)\n",
    "\n",
    "title ='Effect of oversampling on Logistic Regression for Alive (RCB included)'\n",
    "plot_compare_roc(fpr1, tpr1,fpr2, tpr2, auc1, auc2, title = title)"
   ]
  },
  {
   "cell_type": "markdown",
   "metadata": {},
   "source": [
    "<h1><center> Prediction of continous outcomes</center></h1>"
   ]
  },
  {
   "cell_type": "markdown",
   "metadata": {},
   "source": [
    "## Prepare functions"
   ]
  },
  {
   "cell_type": "code",
   "execution_count": null,
   "metadata": {
    "collapsed": true
   },
   "outputs": [],
   "source": [
    "# metrics\n",
    "mae = metrics.median_absolute_error\n",
    "\n",
    "def mae_report(Ytest, Yhat, outcome_):\n",
    "    error = mae(Ytest, Yhat)\n",
    "    error = np.round( error, decimals=3)\n",
    "    # report\n",
    "    print('\\n' )\n",
    "    print('==' *40)\n",
    "    print('The median absolute error for testing data set of ' + outcome_ + ' is: ' + str(error))\n",
    "    print('==' *40)\n",
    "\n",
    "def train_test_report(predictor, Xtrain, Ytrain, Xtest, Ytest, outcome):\n",
    "    # train\n",
    "    predictor.fit(Xtrain, Ytrain)\n",
    "    # test\n",
    "    Yhat = predictor.predict(Xtest)\n",
    "    # report\n",
    "    mae_report(Ytest, Yhat, outcome)\n",
    "    \n",
    "# lsq \n",
    "import statsmodels.api as sm\n",
    "def lsq(Xtrain,Ytrain, Xtest, Ytest, outcome =''):\n",
    "    # train\n",
    "    OLS = sm.OLS(Ytrain,Xtrain).fit();\n",
    "    print(OLS.summary())\n",
    "    #test\n",
    "    Yhat = OLS.predict(Xtest)\n",
    "    # report\n",
    "    mae_report(Ytest, Yhat, outcome)\n",
    "\n",
    "# SVR    \n",
    "from sklearn.svm import SVR\n",
    "from sklearn.model_selection import GridSearchCV   \n",
    "\n",
    "# GridSearchCV utility\n",
    "def gridsearch(regressor, grid):\n",
    "    optimized_regressor=  GridSearchCV(  regressor, \n",
    "                               param_grid = grid, \n",
    "                               cv= 3, verbose = 0, n_jobs = -1,\n",
    "                               scoring = metrics.make_scorer(metrics.median_absolute_error))\n",
    "    \n",
    "    return optimized_regressor\n",
    "    \n",
    "\n",
    "\n",
    "def svr(Xtrain,Ytrain, Xtest, Ytest, outcome = ''):\n",
    "    # define regressor\n",
    "    regressor =  SVR()\n",
    "    # define parameter grid search\n",
    "    grid = dict(       kernel = ['rbf','linear','sigmoid'], \n",
    "                       C = np.arange(1,11,1),\n",
    "                       epsilon = np.arange(1,11,1),\n",
    "                       gamma = np.linspace(1/10,10,3))\n",
    "    # perform grid search\n",
    "    grid_search=  gridsearch(regressor, grid)\n",
    "    \n",
    "    # train, test, and report\n",
    "    train_test_report(grid_search, Xtrain, Ytrain, Xtest, Ytest, outcome)\n",
    "\n",
    "    \n",
    "# ElasticNet\n",
    "from sklearn.linear_model import ElasticNet as ENet\n",
    "\n",
    "def ElasticNet(Xtrain,Ytrain, Xtest, Ytest, outcome = ''):\n",
    "    # define regressor\n",
    "    regressor =  ENet(max_iter=5000)\n",
    "    # define parameter grid search\n",
    "    grid = dict(   alpha = np.arange(1,20,.5), l1_ratio = np.arange(.1,1,.05))\n",
    "    # perform grid search\n",
    "    grid_search=  gridsearch(regressor, grid)\n",
    "    # train, test, and report\n",
    "    train_test_report(grid_search, Xtrain, Ytrain, Xtest, Ytest, outcome)\n",
    "    \n",
    "\n",
    "# Random Forest Regressor\n",
    "from sklearn.ensemble import RandomForestRegressor as RFR\n",
    "\n",
    "def RandomForestRegressor(Xtrain,Ytrain, Xtest, Ytest, outcome = ''):\n",
    "    # define regressor\n",
    "    regressor =  RFR( criterion='mse', random_state = RANDOM_STATE)\n",
    "    \n",
    "    #\n",
    "    num_features = Xtrain.shape[1]\n",
    "    \n",
    "    # define parameter grid search\n",
    "    grid = dict(    n_estimators = np.arange(5,100,5), \n",
    "                    max_features = np.arange(1,num_features, 1),\n",
    "                    max_depth = [None, 1, 2, 3, 4, 5])\n",
    "    \n",
    "    # perform grid search\n",
    "    grid_search=  gridsearch(regressor, grid)\n",
    "    \n",
    "    # train, test, and report\n",
    "    train_test_report(grid_search, Xtrain, Ytrain, Xtest, Ytest, outcome)\n",
    "    "
   ]
  },
  {
   "cell_type": "markdown",
   "metadata": {},
   "source": [
    "## Organize predictors in the right format and split data"
   ]
  },
  {
   "cell_type": "code",
   "execution_count": null,
   "metadata": {
    "collapsed": true
   },
   "outputs": [],
   "source": [
    "# allocate continous predictors\n",
    "cont_predictors = ['age','MRI_LD_Baseline', 'MRI_LD_1_3dAC', 'MRI_LD_Int_Reg', 'MRI_LD_PreSurg']\n",
    "contX = df[cont_predictors].values\n",
    "\n",
    "# allocate categorical predictors\n",
    "cat_pred = ['PCR','White', 'ER+', 'PR+', 'HR+'];\n",
    "catX = pd.pandas.get_dummies(df[cat_pred], drop_first=True).values\n",
    "\n",
    "# concatenate predictors\n",
    "X = np.concatenate( (catX, contX), axis=1)\n",
    "\n",
    "#outcome\n",
    "y = df.RFS.values / 30; # conver to months\n",
    "\n",
    "#split\n",
    "X_train, X_test, y_train, y_test = train_test_split(X, y, random_state=RANDOM_STATE)"
   ]
  },
  {
   "cell_type": "markdown",
   "metadata": {},
   "source": [
    "## 1.0 Recurrence-Free Survival (`RFS`, Continous in months)"
   ]
  },
  {
   "cell_type": "code",
   "execution_count": null,
   "metadata": {
    "collapsed": true
   },
   "outputs": [],
   "source": [
    "# LSQ\n",
    "lsq(X_train, y_train, X_test, y_test, outcome =' Recurrence-Free Survival (months)')"
   ]
  },
  {
   "cell_type": "markdown",
   "metadata": {},
   "source": [
    "### Categorical Predictors only Linear Regression"
   ]
  },
  {
   "cell_type": "markdown",
   "metadata": {},
   "source": [
    "## ElasticNet"
   ]
  },
  {
   "cell_type": "code",
   "execution_count": null,
   "metadata": {
    "collapsed": true
   },
   "outputs": [],
   "source": [
    "ElasticNet(X_train, y_train, X_test, y_test, outcome =' Recurrence-Free Survival (months)')"
   ]
  },
  {
   "cell_type": "markdown",
   "metadata": {},
   "source": [
    "## SVM Regressor"
   ]
  },
  {
   "cell_type": "code",
   "execution_count": null,
   "metadata": {
    "collapsed": true
   },
   "outputs": [],
   "source": [
    "svr(X_train, y_train, X_test, y_test, outcome =' Recurrence-Free Survival (months)')"
   ]
  },
  {
   "cell_type": "markdown",
   "metadata": {},
   "source": [
    "## Random Fores regressor"
   ]
  },
  {
   "cell_type": "code",
   "execution_count": null,
   "metadata": {
    "collapsed": true
   },
   "outputs": [],
   "source": [
    "RandomForestRegressor(X_train, y_train, X_test, y_test, outcome =' Recurrence-Free Survival (months)')"
   ]
  },
  {
   "cell_type": "markdown",
   "metadata": {},
   "source": [
    "## 2.0  Survival Length (`Survival_length`, Continous, months)"
   ]
  },
  {
   "cell_type": "code",
   "execution_count": null,
   "metadata": {
    "collapsed": true
   },
   "outputs": [],
   "source": [
    "y = df.Survival_length.values / 30\n",
    "#split\n",
    "X_train, X_test, y_train, y_test = train_test_split(X, y, random_state=RANDOM_STATE)"
   ]
  },
  {
   "cell_type": "code",
   "execution_count": null,
   "metadata": {
    "collapsed": true
   },
   "outputs": [],
   "source": [
    "# # LSQ\n",
    "lsq(X_train, y_train, X_test, y_test, outcome ='Survival_length (months)')"
   ]
  },
  {
   "cell_type": "code",
   "execution_count": null,
   "metadata": {
    "collapsed": true
   },
   "outputs": [],
   "source": [
    "svr(X_train, y_train, X_test, y_test, outcome ='Survival length (months)')"
   ]
  },
  {
   "cell_type": "code",
   "execution_count": null,
   "metadata": {
    "collapsed": true
   },
   "outputs": [],
   "source": [
    "ElasticNet(X_train, y_train, X_test, y_test, outcome = 'Survival length (months)')"
   ]
  },
  {
   "cell_type": "code",
   "execution_count": null,
   "metadata": {
    "collapsed": true
   },
   "outputs": [],
   "source": []
  }
 ],
 "metadata": {
  "anaconda-cloud": {},
  "kernelspec": {
   "display_name": "Python [conda root]",
   "language": "python",
   "name": "conda-root-py"
  },
  "language_info": {
   "codemirror_mode": {
    "name": "ipython",
    "version": 3
   },
   "file_extension": ".py",
   "mimetype": "text/x-python",
   "name": "python",
   "nbconvert_exporter": "python",
   "pygments_lexer": "ipython3",
   "version": "3.5.2"
  }
 },
 "nbformat": 4,
 "nbformat_minor": 2
}
