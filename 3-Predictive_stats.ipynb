{
 "cells": [
  {
   "cell_type": "markdown",
   "metadata": {},
   "source": [
    "<h1><center> Predictive statistics on the I-SPY1 Clinical Trial</center></h1>"
   ]
  },
  {
   "cell_type": "markdown",
   "metadata": {},
   "source": [
    "### 0. Load modules and clean data"
   ]
  },
  {
   "cell_type": "code",
   "execution_count": 1,
   "metadata": {},
   "outputs": [
    {
     "data": {
      "text/html": [
       "<div>\n",
       "<style>\n",
       "    .dataframe thead tr:only-child th {\n",
       "        text-align: right;\n",
       "    }\n",
       "\n",
       "    .dataframe thead th {\n",
       "        text-align: left;\n",
       "    }\n",
       "\n",
       "    .dataframe tbody tr th {\n",
       "        vertical-align: top;\n",
       "    }\n",
       "</style>\n",
       "<table border=\"1\" class=\"dataframe\">\n",
       "  <thead>\n",
       "    <tr style=\"text-align: right;\">\n",
       "      <th></th>\n",
       "      <th>SUBJECTID</th>\n",
       "      <th>age</th>\n",
       "      <th>White</th>\n",
       "      <th>ER+</th>\n",
       "      <th>PR+</th>\n",
       "      <th>HR+</th>\n",
       "      <th>Bilateral</th>\n",
       "      <th>Right_Breast</th>\n",
       "      <th>MRI_LD_Baseline</th>\n",
       "      <th>MRI_LD_1_3dAC</th>\n",
       "      <th>MRI_LD_Int_Reg</th>\n",
       "      <th>MRI_LD_PreSurg</th>\n",
       "      <th>Alive</th>\n",
       "      <th>Survival_length</th>\n",
       "      <th>RFS</th>\n",
       "      <th>RFS_code</th>\n",
       "      <th>PCR</th>\n",
       "      <th>RCB</th>\n",
       "    </tr>\n",
       "  </thead>\n",
       "  <tbody>\n",
       "    <tr>\n",
       "      <th>0</th>\n",
       "      <td>1001</td>\n",
       "      <td>38.73</td>\n",
       "      <td>Yes</td>\n",
       "      <td>Yes</td>\n",
       "      <td>No</td>\n",
       "      <td>Yes</td>\n",
       "      <td>No</td>\n",
       "      <td>No</td>\n",
       "      <td>88.0</td>\n",
       "      <td>78.0</td>\n",
       "      <td>30.0</td>\n",
       "      <td>14.0</td>\n",
       "      <td>No</td>\n",
       "      <td>1264</td>\n",
       "      <td>751</td>\n",
       "      <td>1</td>\n",
       "      <td>No</td>\n",
       "      <td>2.0</td>\n",
       "    </tr>\n",
       "    <tr>\n",
       "      <th>1</th>\n",
       "      <td>1002</td>\n",
       "      <td>37.79</td>\n",
       "      <td>Yes</td>\n",
       "      <td>Yes</td>\n",
       "      <td>Yes</td>\n",
       "      <td>Yes</td>\n",
       "      <td>No</td>\n",
       "      <td>Yes</td>\n",
       "      <td>29.0</td>\n",
       "      <td>26.0</td>\n",
       "      <td>66.0</td>\n",
       "      <td>16.0</td>\n",
       "      <td>No</td>\n",
       "      <td>1155</td>\n",
       "      <td>1043</td>\n",
       "      <td>1</td>\n",
       "      <td>No</td>\n",
       "      <td>3.0</td>\n",
       "    </tr>\n",
       "  </tbody>\n",
       "</table>\n",
       "</div>"
      ],
      "text/plain": [
       "   SUBJECTID    age White  ER+  PR+  HR+ Bilateral Right_Breast  \\\n",
       "0       1001  38.73   Yes  Yes   No  Yes        No           No   \n",
       "1       1002  37.79   Yes  Yes  Yes  Yes        No          Yes   \n",
       "\n",
       "   MRI_LD_Baseline  MRI_LD_1_3dAC  MRI_LD_Int_Reg  MRI_LD_PreSurg Alive  \\\n",
       "0             88.0           78.0            30.0            14.0    No   \n",
       "1             29.0           26.0            66.0            16.0    No   \n",
       "\n",
       "   Survival_length   RFS  RFS_code PCR  RCB  \n",
       "0             1264   751         1  No  2.0  \n",
       "1             1155  1043         1  No  3.0  "
      ]
     },
     "execution_count": 1,
     "metadata": {},
     "output_type": "execute_result"
    }
   ],
   "source": [
    "# import custom modules wrote by julio\n",
    "import seaborn as sns\n",
    "import pandas as pd\n",
    "RANDOM_STATE = 42; # for reproducibility\n",
    "import matplotlib.pyplot as plt\n",
    "%matplotlib inline\n",
    "import numpy as np\n",
    "\n",
    "from ispy1 import predictive_statistics\n",
    "\n",
    "from sklearn.model_selection import train_test_split\n",
    "from sklearn import metrics, tree\n",
    "from imblearn import over_sampling as os\n",
    "from imblearn import pipeline as pl\n",
    "\n",
    "# reload modules without restartign the kernel (makes development easier)\n",
    "import importlib\n",
    "importlib.reload(predictive_statistics);\n",
    "\n",
    "df = pd.read_csv('./data/I-SPY_1_clean_data.csv')\n",
    "df.head(2)"
   ]
  },
  {
   "cell_type": "markdown",
   "metadata": {},
   "source": [
    "<h1><center> Prediction of categorical outcomes</center></h1>"
   ]
  },
  {
   "cell_type": "markdown",
   "metadata": {},
   "source": [
    "### 1. Prepare Imbalanced Learning pipeline"
   ]
  },
  {
   "cell_type": "code",
   "execution_count": 2,
   "metadata": {
    "collapsed": true
   },
   "outputs": [],
   "source": [
    "\n",
    "def unbalanced_learning(X,y,classifier):\n",
    "    # http://sci2s.ugr.es/keel/pdf/algorithm/congreso/2008-He-ieee.pdf\n",
    "    \n",
    "    # define Kappa scorer\n",
    "    scorer = metrics.make_scorer(metrics.cohen_kappa_score)\n",
    "    \n",
    "    # ADASYN for inbalanced learning, this will over sample the class wit the fewest number of cases\n",
    "    adasyn = os.ADASYN(random_state=RANDOM_STATE)\n",
    "\n",
    "    # create pipeline\n",
    "    pipeline_classifier = pl.make_pipeline(adasyn, classifier)\n",
    "    \n",
    "    # optimize over this variable\n",
    "    train_scores, test_scores, ideal_par = predictive_statistics.validation_curve(pipeline_classifier,\n",
    "                                                                       X, y, \"adasyn__k\",scorer,\n",
    "                                                                       parameter_range = range(1,20),\n",
    "                                                                       c_v = 5)\n",
    "    # plot validation                                                                                                             \n",
    "    predictive_statistics.plot_validation_curve(train_scores, test_scores,\n",
    "                                     param_range = range(1,20), title = \"Validation Curve with ADASYN\",\n",
    "                                                                     xlabel = 'K neighbor', ylabel = 'Kappa') \n",
    "    \n",
    "    # change parameter into optimal value\n",
    "    pipeline_classifier.set_params(adasyn__k = ideal_par);\n",
    "    \n",
    "    \n",
    "    # standard classifier\n",
    "    standard_classifier = classifier.fit(X,y)\n",
    "    \n",
    "    return pipeline_classifier, standard_classifier\n",
    "    \n",
    "def plot_feature_importance(X,labels, TreeClassifier, title =''):\n",
    "    predictor_num = np.arange(0,X.shape[1]);\n",
    "    \n",
    "    importance = TreeClassifier.feature_importances_\n",
    "    index = np.argsort(importance, axis = 0)\n",
    "    \n",
    "    plt.barh(predictor_num, importance[index]);\n",
    "    plt.yticks(index, labels);\n",
    "    plt.title(title);\n",
    "    plt.show()\n",
    "    "
   ]
  },
  {
   "cell_type": "markdown",
   "metadata": {},
   "source": [
    "### 2. clean, load, and format data"
   ]
  },
  {
   "cell_type": "code",
   "execution_count": 3,
   "metadata": {},
   "outputs": [
    {
     "data": {
      "text/html": [
       "<div>\n",
       "<style>\n",
       "    .dataframe thead tr:only-child th {\n",
       "        text-align: right;\n",
       "    }\n",
       "\n",
       "    .dataframe thead th {\n",
       "        text-align: left;\n",
       "    }\n",
       "\n",
       "    .dataframe tbody tr th {\n",
       "        vertical-align: top;\n",
       "    }\n",
       "</style>\n",
       "<table border=\"1\" class=\"dataframe\">\n",
       "  <thead>\n",
       "    <tr style=\"text-align: right;\">\n",
       "      <th></th>\n",
       "      <th>SUBJECTID</th>\n",
       "      <th>age</th>\n",
       "      <th>White</th>\n",
       "      <th>ER+</th>\n",
       "      <th>PR+</th>\n",
       "      <th>HR+</th>\n",
       "      <th>Bilateral</th>\n",
       "      <th>Right_Breast</th>\n",
       "      <th>MRI_LD_Baseline</th>\n",
       "      <th>MRI_LD_1_3dAC</th>\n",
       "      <th>MRI_LD_Int_Reg</th>\n",
       "      <th>MRI_LD_PreSurg</th>\n",
       "      <th>Alive</th>\n",
       "      <th>Survival_length</th>\n",
       "      <th>RFS</th>\n",
       "      <th>RFS_code</th>\n",
       "      <th>PCR</th>\n",
       "      <th>RCB</th>\n",
       "    </tr>\n",
       "  </thead>\n",
       "  <tbody>\n",
       "    <tr>\n",
       "      <th>0</th>\n",
       "      <td>1001</td>\n",
       "      <td>38.73</td>\n",
       "      <td>Yes</td>\n",
       "      <td>Yes</td>\n",
       "      <td>No</td>\n",
       "      <td>Yes</td>\n",
       "      <td>No</td>\n",
       "      <td>No</td>\n",
       "      <td>88.0</td>\n",
       "      <td>78.0</td>\n",
       "      <td>30.0</td>\n",
       "      <td>14.0</td>\n",
       "      <td>No</td>\n",
       "      <td>1264</td>\n",
       "      <td>751</td>\n",
       "      <td>1</td>\n",
       "      <td>No</td>\n",
       "      <td>2.0</td>\n",
       "    </tr>\n",
       "    <tr>\n",
       "      <th>1</th>\n",
       "      <td>1002</td>\n",
       "      <td>37.79</td>\n",
       "      <td>Yes</td>\n",
       "      <td>Yes</td>\n",
       "      <td>Yes</td>\n",
       "      <td>Yes</td>\n",
       "      <td>No</td>\n",
       "      <td>Yes</td>\n",
       "      <td>29.0</td>\n",
       "      <td>26.0</td>\n",
       "      <td>66.0</td>\n",
       "      <td>16.0</td>\n",
       "      <td>No</td>\n",
       "      <td>1155</td>\n",
       "      <td>1043</td>\n",
       "      <td>1</td>\n",
       "      <td>No</td>\n",
       "      <td>3.0</td>\n",
       "    </tr>\n",
       "    <tr>\n",
       "      <th>2</th>\n",
       "      <td>1003</td>\n",
       "      <td>49.83</td>\n",
       "      <td>Yes</td>\n",
       "      <td>Yes</td>\n",
       "      <td>Yes</td>\n",
       "      <td>Yes</td>\n",
       "      <td>No</td>\n",
       "      <td>No</td>\n",
       "      <td>50.0</td>\n",
       "      <td>64.0</td>\n",
       "      <td>54.0</td>\n",
       "      <td>46.0</td>\n",
       "      <td>Yes</td>\n",
       "      <td>2387</td>\n",
       "      <td>2387</td>\n",
       "      <td>0</td>\n",
       "      <td>No</td>\n",
       "      <td>3.0</td>\n",
       "    </tr>\n",
       "  </tbody>\n",
       "</table>\n",
       "</div>"
      ],
      "text/plain": [
       "   SUBJECTID    age White  ER+  PR+  HR+ Bilateral Right_Breast  \\\n",
       "0       1001  38.73   Yes  Yes   No  Yes        No           No   \n",
       "1       1002  37.79   Yes  Yes  Yes  Yes        No          Yes   \n",
       "2       1003  49.83   Yes  Yes  Yes  Yes        No           No   \n",
       "\n",
       "   MRI_LD_Baseline  MRI_LD_1_3dAC  MRI_LD_Int_Reg  MRI_LD_PreSurg Alive  \\\n",
       "0             88.0           78.0            30.0            14.0    No   \n",
       "1             29.0           26.0            66.0            16.0    No   \n",
       "2             50.0           64.0            54.0            46.0   Yes   \n",
       "\n",
       "   Survival_length   RFS  RFS_code PCR  RCB  \n",
       "0             1264   751         1  No  2.0  \n",
       "1             1155  1043         1  No  3.0  \n",
       "2             2387  2387         0  No  3.0  "
      ]
     },
     "execution_count": 3,
     "metadata": {},
     "output_type": "execute_result"
    }
   ],
   "source": [
    "X_df = df.iloc[:,0:11]\n",
    "X_df.head(2)\n",
    "\n",
    "# allocate age alone (size issue)\n",
    "\n",
    "# allocate continous predictors\n",
    "mri_predictors = ['MRI_LD_Baseline', 'MRI_LD_1_3dAC', 'MRI_LD_Int_Reg', 'MRI_LD_PreSurg']\n",
    "X_mri = df[mri_predictors].values\n",
    "\n",
    "# allocate clinical predictors\n",
    "clinical_predictors = ['age','White', 'ER+', 'PR+', 'HR+'];\n",
    "X_clinical = pd.pandas.get_dummies(df[clinical_predictors], drop_first=True).values\n",
    "\n",
    "# allocate a single variable X\n",
    "X = np.concatenate( (X_clinical, X_mri), axis=1)\n",
    "\n",
    "#\n",
    "df.head(3)"
   ]
  },
  {
   "cell_type": "markdown",
   "metadata": {},
   "source": [
    "<h1><center> Prediction of categorical outcomes</center></h1>"
   ]
  },
  {
   "cell_type": "markdown",
   "metadata": {},
   "source": [
    "## 1.0 Pathological Complete Response (PCR)"
   ]
  },
  {
   "cell_type": "code",
   "execution_count": 4,
   "metadata": {},
   "outputs": [
    {
     "data": {
      "image/png": "[encoded data removed]",
      "text/plain": [
       "<matplotlib.figure.Figure at 0x114005e80>"
      ]
     },
     "metadata": {},
     "output_type": "display_data"
    }
   ],
   "source": [
    "# How inbalanced is the sample\n",
    "outcome ='PCR'\n",
    "df[outcome].value_counts(normalize = True).plot.barh(); plt.title('Normalized Sample balance for ' + outcome);"
   ]
  },
  {
   "cell_type": "code",
   "execution_count": 5,
   "metadata": {},
   "outputs": [
    {
     "data": {
      "image/png": "[encoded data removed]",
      "text/plain": [
       "<matplotlib.figure.Figure at 0x108c540b8>"
      ]
     },
     "metadata": {},
     "output_type": "display_data"
    }
   ],
   "source": [
    "# allocate  outcome \n",
    "outcome = 'PCR'\n",
    "y = predictive_statistics.labels_to_numbers(df, outcome)\n",
    "\n",
    "# split\n",
    "X_train, X_test, y_train, y_test = train_test_split(X, y, random_state=RANDOM_STATE)\n",
    "\n",
    "# choose classifier (DecisionTreeClassifier)\n",
    "clf = tree.DecisionTreeClassifier(random_state=RANDOM_STATE)\n",
    "\n",
    "# unbalanced learning\n",
    "clf_opt, clf_std= unbalanced_learning(X_train,y_train,clf)\n",
    "\n",
    "# train with optimized parameters and predict\n",
    "#clf_opt.fit(X_train, y_train)\n",
    "yhat = clf_opt.predict(X_test)"
   ]
  },
  {
   "cell_type": "code",
   "execution_count": 6,
   "metadata": {},
   "outputs": [
    {
     "name": "stdout",
     "output_type": "stream",
     "text": [
      "------------------------------------------------------------\n",
      "Observed Performance\n",
      "------------------------------------------------------------\n",
      "             precision    recall  f1-score   support\n",
      "\n",
      "          0       0.78      0.91      0.84        32\n",
      "          1       0.40      0.20      0.27        10\n",
      "\n",
      "avg / total       0.69      0.74      0.70        42\n",
      "\n",
      "------------------------------------------------------------\n",
      "Performance assuming  41 observations belong to the largest class\n",
      "------------------------------------------------------------\n",
      "             precision    recall  f1-score   support\n",
      "\n",
      "          0       0.76      0.97      0.85        32\n",
      "          1       0.00      0.00      0.00        10\n",
      "\n",
      "avg / total       0.58      0.74      0.65        42\n",
      "\n"
     ]
    }
   ],
   "source": [
    "# performance\n",
    "predictive_statistics.classification_report(y_test, yhat)"
   ]
  },
  {
   "cell_type": "markdown",
   "metadata": {},
   "source": [
    "### what is the importance of each predictor?"
   ]
  },
  {
   "cell_type": "code",
   "execution_count": 7,
   "metadata": {},
   "outputs": [
    {
     "data": {
      "image/png": "[encoded data removed]",
      "text/plain": [
       "<matplotlib.figure.Figure at 0x107899e48>"
      ]
     },
     "metadata": {},
     "output_type": "display_data"
    }
   ],
   "source": [
    "labels = clinical_predictors + mri_predictors \n",
    "plot_feature_importance(X,labels, clf_opt.steps[1][1],'Feature importance for ' + outcome)"
   ]
  },
  {
   "cell_type": "markdown",
   "metadata": {},
   "source": [
    "# How much does ADASYN help ?"
   ]
  },
  {
   "cell_type": "code",
   "execution_count": 8,
   "metadata": {},
   "outputs": [],
   "source": [
    "from sklearn.calibration import CalibratedClassifierCV\n",
    "\n",
    "# function to estimate ROC curve and AUC using calibrated propabilities\n",
    "def roc_curve_calibrated_prob(classifier, Xtrain, ytrain, Xtest, ytest, positive_class = 1):\n",
    "    # calibrated probability\n",
    "    CF = CalibratedClassifierCV( base_estimator = classifier, method='sigmoid', cv=10)\n",
    "    CF.fit(Xtrain,ytrain)\n",
    "    score = CF.predict_proba(Xtest)\n",
    "    \n",
    "    tpr, fpr, _ = metrics.roc_curve(ytest, score[:,1], pos_label = positive_class, drop_intermediate = False)\n",
    "    \n",
    "    return tpr, fpr, metrics.auc(tpr,fpr)\n"
   ]
  },
  {
   "cell_type": "code",
   "execution_count": 9,
   "metadata": {},
   "outputs": [
    {
     "name": "stdout",
     "output_type": "stream",
     "text": [
      "0.6390625\n",
      "0.6296875\n"
     ]
    }
   ],
   "source": [
    "# estimate metrics for unbalanced learning\n",
    "tpr_ul, fpr_ul, auc_ul = roc_curve_calibrated_prob(clf_opt, X_train, y_train, X_test, y_test, positive_class = 1)\n",
    "print(auc_ul)\n",
    "# estimate metrics for standard classifier\n",
    "tpr_st, fpr_st, auc_st = roc_curve_calibrated_prob(clf_std, X_train, y_train, X_test, y_test, positive_class = 1)\n",
    "print(auc_st)"
   ]
  },
  {
   "cell_type": "code",
   "execution_count": 10,
   "metadata": {},
   "outputs": [
    {
     "data": {
      "text/plain": [
       "<matplotlib.legend.Legend at 0x114a29ef0>"
      ]
     },
     "execution_count": 10,
     "metadata": {},
     "output_type": "execute_result"
    },
    {
     "data": {
      "image/png": "[encoded data removed]",
      "text/plain": [
       "<matplotlib.figure.Figure at 0x1147977b8>"
      ]
     },
     "metadata": {},
     "output_type": "display_data"
    }
   ],
   "source": [
    "# plot\n",
    "plt.plot(tpr_ul,fpr_ul,'-')\n",
    "plt.plot(tpr_st,fpr_st,'o-')\n",
    "plt.legend(['ADASYN','Standard unbalanced'])"
   ]
  },
  {
   "cell_type": "markdown",
   "metadata": {},
   "source": [
    "## 2.0  Survival (`Alive`)"
   ]
  },
  {
   "cell_type": "code",
   "execution_count": 11,
   "metadata": {
    "collapsed": true
   },
   "outputs": [],
   "source": [
    "# allocate  outcome \n",
    "outcome = 'Alive'\n",
    "y = predictive_statistics.labels_to_numbers(df, outcome)\n",
    "\n",
    "# extended clinical predictors\n",
    "clinical_predictors = ['PCR','age','White', 'ER+', 'PR+', 'HR+'];\n",
    "X_clinical = pd.pandas.get_dummies(df[clinical_predictors], drop_first=True).values\n",
    "\n",
    "# allocate a single variable X\n",
    "X = np.concatenate( (X_clinical, X_mri), axis=1)\n",
    "\n",
    "# split\n",
    "X_train, X_test, y_train, y_test = train_test_split(X, y, random_state=RANDOM_STATE)"
   ]
  },
  {
   "cell_type": "code",
   "execution_count": 12,
   "metadata": {},
   "outputs": [
    {
     "data": {
      "image/png": "[encoded data removed]",
      "text/plain": [
       "<matplotlib.figure.Figure at 0x114b7f2e8>"
      ]
     },
     "metadata": {},
     "output_type": "display_data"
    }
   ],
   "source": [
    "# How inbalanced is the sample\n",
    "df[outcome].value_counts(normalize = True).plot.barh(); plt.title('Normalized Sample balance for ' + outcome);"
   ]
  },
  {
   "cell_type": "code",
   "execution_count": 13,
   "metadata": {},
   "outputs": [
    {
     "data": {
      "image/png": "[encoded data removed]",
      "text/plain": [
       "<matplotlib.figure.Figure at 0x1147915c0>"
      ]
     },
     "metadata": {},
     "output_type": "display_data"
    }
   ],
   "source": [
    "# unbalanced learning\n",
    "clf_opt, clf_std= unbalanced_learning(X,y,clf)\n",
    "\n",
    "# train with optimized parameters and predict\n",
    "clf_opt.fit(X_train, y_train)\n",
    "yhat = clf_opt.predict(X_test)"
   ]
  },
  {
   "cell_type": "code",
   "execution_count": 14,
   "metadata": {},
   "outputs": [
    {
     "name": "stdout",
     "output_type": "stream",
     "text": [
      "------------------------------------------------------------\n",
      "Observed Performance\n",
      "------------------------------------------------------------\n",
      "             precision    recall  f1-score   support\n",
      "\n",
      "          0       0.20      0.14      0.17         7\n",
      "          1       0.84      0.89      0.86        35\n",
      "\n",
      "avg / total       0.73      0.76      0.75        42\n",
      "\n",
      "------------------------------------------------------------\n",
      "Performance assuming  41 observations belong to the largest class\n",
      "------------------------------------------------------------\n",
      "             precision    recall  f1-score   support\n",
      "\n",
      "          0       0.00      0.00      0.00         7\n",
      "          1       0.83      0.97      0.89        35\n",
      "\n",
      "avg / total       0.69      0.81      0.75        42\n",
      "\n"
     ]
    }
   ],
   "source": [
    "# performance\n",
    "predictive_statistics.classification_report(y_test, yhat)"
   ]
  },
  {
   "cell_type": "markdown",
   "metadata": {},
   "source": [
    "<h1><center> Prediction of continous outcomes</center></h1>"
   ]
  },
  {
   "cell_type": "markdown",
   "metadata": {},
   "source": [
    "## Prepare functions"
   ]
  },
  {
   "cell_type": "code",
   "execution_count": 96,
   "metadata": {
    "collapsed": true
   },
   "outputs": [],
   "source": [
    "# metrics\n",
    "mae = metrics.median_absolute_error\n",
    "\n",
    "def mae_report(Ytest, Yhat, outcome):\n",
    "    error = mae(Ytest, Yhat)\n",
    "    error = np.round( error, decimals=3)\n",
    "    # report\n",
    "    print('\\n' )\n",
    "    print('==' *40)\n",
    "    print('The median absolute error for testing data set of ' + outcome + ' is: ' + str(error))\n",
    "    print('==' *40)\n",
    "\n",
    "def train_test_report(predictor, Xtrain, Ytrain, Xtest, Ytest):\n",
    "    # train\n",
    "    predictor.fit(Xtrain, Ytrain)\n",
    "    # test\n",
    "    Yhat = predictor.predict(Xtest)\n",
    "    # report\n",
    "    mae_report(Ytest, Yhat, outcome)\n",
    "    \n",
    "# lsq \n",
    "import statsmodels.api as sm\n",
    "def lsq(Xtrain,Ytrain, Xtest, Ytest, outcome =''):\n",
    "    # train\n",
    "    OLS = sm.OLS(Ytrain,Xtrain).fit();\n",
    "    print(OLS.summary())\n",
    "    #test\n",
    "    Yhat = OLS.predict(Xtest)\n",
    "    # report\n",
    "    mae_report(Ytest, Yhat, outcome)\n",
    "\n",
    "# SVR    \n",
    "from sklearn.svm import SVR\n",
    "from sklearn.model_selection import GridSearchCV   \n",
    "\n",
    "\n",
    "def svr(Xtrain,Ytrain, Xtest, Ytest, outcome = ''):\n",
    "    # define regressor\n",
    "    regressor =  SVR()\n",
    "    # define parameter grid search\n",
    "    grid = dict(       kernel = ['rbf','linear','sigmoid'], \n",
    "                       C = np.arange(1,11,1),\n",
    "                       epsilon = np.arange(1,11,1),\n",
    "                       gamma = np.linspace(1/10,10,3))\n",
    "    # perform grid search\n",
    "    grid_search=  GridSearchCV(  regressor, \n",
    "                               param_grid = grid, \n",
    "                               cv= 3, verbose=1, n_jobs = -1,\n",
    "                               scoring = metrics.make_scorer(metrics.median_absolute_error))\n",
    "    # train, test, and report\n",
    "    train_test_report(grid_search, Xtrain, Ytrain, Xtest, Ytest)\n",
    "\n",
    "    \n",
    "# ElasticNet\n",
    "from sklearn.linear_model import ElasticNet as ENet\n",
    "\n",
    "def ElasticNet(Xtrain,Ytrain, Xtest, Ytest, outcome = ''):\n",
    "    # define regressor\n",
    "    regressor =  ENet(max_iter=5000)\n",
    "    # define parameter grid search\n",
    "    grid = dict(   alpha = np.arange(1,20,.5), l1_ratio = np.arange(.1,1,.05))\n",
    "    # perform grid search\n",
    "    grid_search=  GridSearchCV(  regressor, \n",
    "                               param_grid = grid, \n",
    "                               cv= 10, verbose=1, n_jobs = -1,\n",
    "                               scoring = metrics.make_scorer(metrics.median_absolute_error))\n",
    "    \n",
    "    # train, test, and report\n",
    "    train_test_report(grid_search, Xtrain, Ytrain, Xtest, Ytest)\n",
    "    \n",
    "\n",
    "# Random Forest Regressor\n",
    "from sklearn.ensemble import RandomForestRegressor as RFR\n",
    "\n",
    "def RandomForestRegressor(Xtrain,Ytrain, Xtest, Ytest, outcome = ''):\n",
    "    # define regressor\n",
    "    regressor =  RFR( criterion='mse', random_state = RANDOM_STATE)\n",
    "    \n",
    "    #\n",
    "    num_features = Xtrain.shape[1]\n",
    "    \n",
    "    # define parameter grid search\n",
    "    grid = dict(    n_estimators = np.arange(1,100,1), \n",
    "                    max_features = np.arange(1,num_features, 1),\n",
    "                    max_depth = [None, 1, 2, 3, 4, 5])\n",
    "    # perform grid search\n",
    "    grid_search=  GridSearchCV(  regressor, \n",
    "                               param_grid = grid, \n",
    "                               cv= 10, verbose=1, n_jobs = -1,\n",
    "                               scoring = metrics.make_scorer(metrics.median_absolute_error))\n",
    "    # train, test, and report\n",
    "    train_test_report(grid_search, Xtrain, Ytrain, Xtest, Ytest)\n",
    "    "
   ]
  },
  {
   "cell_type": "code",
   "execution_count": null,
   "metadata": {},
   "outputs": [
    {
     "name": "stdout",
     "output_type": "stream",
     "text": [
      "Fitting 10 folds for each of 5346 candidates, totalling 53460 fits\n"
     ]
    },
    {
     "name": "stderr",
     "output_type": "stream",
     "text": [
      "[Parallel(n_jobs=-1)]: Done 340 tasks      | elapsed:    3.1s\n",
      "[Parallel(n_jobs=-1)]: Done 1011 tasks      | elapsed:   17.7s\n",
      "[Parallel(n_jobs=-1)]: Done 1941 tasks      | elapsed:   34.1s\n",
      "[Parallel(n_jobs=-1)]: Done 3388 tasks      | elapsed:   56.1s\n",
      "[Parallel(n_jobs=-1)]: Done 4891 tasks      | elapsed:  1.4min\n",
      "[Parallel(n_jobs=-1)]: Done 6847 tasks      | elapsed:  2.0min\n",
      "[Parallel(n_jobs=-1)]: Done 9166 tasks      | elapsed:  2.7min\n",
      "[Parallel(n_jobs=-1)]: Done 12113 tasks      | elapsed:  3.6min\n",
      "[Parallel(n_jobs=-1)]: Done 14963 tasks      | elapsed:  4.4min\n"
     ]
    }
   ],
   "source": [
    "RandomForestRegressor(X_train, y_train, X_test, y_test, outcome ='RFS')"
   ]
  },
  {
   "cell_type": "markdown",
   "metadata": {},
   "source": [
    "## Organize predictors in the right format and split data"
   ]
  },
  {
   "cell_type": "code",
   "execution_count": 63,
   "metadata": {
    "collapsed": true
   },
   "outputs": [],
   "source": [
    "# allocate continous predictors\n",
    "cont_predictors = ['age','MRI_LD_Baseline', 'MRI_LD_1_3dAC', 'MRI_LD_Int_Reg', 'MRI_LD_PreSurg']\n",
    "contX = df[cont_predictors].values\n",
    "\n",
    "# allocate categorical predictors\n",
    "cat_pred = ['PCR','White', 'ER+', 'PR+', 'HR+'];\n",
    "catX = pd.pandas.get_dummies(df[cat_pred], drop_first=True).values\n",
    "\n",
    "# concatenate predictors\n",
    "X = np.concatenate( (catX, contX), axis=1)\n",
    "\n",
    "#outcome\n",
    "y = df.RFS.values / 12 ; # conver to months\n",
    "\n",
    "#split\n",
    "X_train, X_test, y_train, y_test = train_test_split(X, y, random_state=RANDOM_STATE)"
   ]
  },
  {
   "cell_type": "markdown",
   "metadata": {},
   "source": [
    "## 1.0 Recurrence Free Survival (`RFS`, Continous)"
   ]
  },
  {
   "cell_type": "code",
   "execution_count": 64,
   "metadata": {},
   "outputs": [
    {
     "name": "stdout",
     "output_type": "stream",
     "text": [
      "                            OLS Regression Results                            \n",
      "==============================================================================\n",
      "Dep. Variable:                      y   R-squared:                       0.866\n",
      "Model:                            OLS   Adj. R-squared:                  0.855\n",
      "Method:                 Least Squares   F-statistic:                     75.12\n",
      "Date:                Thu, 15 Jun 2017   Prob (F-statistic):           6.75e-46\n",
      "Time:                        19:48:53   Log-Likelihood:                -657.74\n",
      "No. Observations:                 126   AIC:                             1335.\n",
      "Df Residuals:                     116   BIC:                             1364.\n",
      "Df Model:                          10                                         \n",
      "Covariance Type:            nonrobust                                         \n",
      "==============================================================================\n",
      "                 coef    std err          t      P>|t|      [0.025      0.975]\n",
      "------------------------------------------------------------------------------\n",
      "x1            33.4290     10.135      3.298      0.001      13.356      53.502\n",
      "x2            -1.4026      9.500     -0.148      0.883     -20.219      17.414\n",
      "x3            61.9984     28.570      2.170      0.032       5.412     118.585\n",
      "x4            12.6913     13.412      0.946      0.346     -13.874      39.256\n",
      "x5           -33.4603     31.464     -1.063      0.290     -95.778      28.857\n",
      "x6             1.4753      0.270      5.458      0.000       0.940       2.011\n",
      "x7             0.4884      0.297      1.643      0.103      -0.100       1.077\n",
      "x8            -0.1299      0.298     -0.436      0.663      -0.720       0.460\n",
      "x9            -0.3401      0.230     -1.478      0.142      -0.796       0.116\n",
      "x10            0.0528      0.214      0.247      0.805      -0.370       0.476\n",
      "==============================================================================\n",
      "Omnibus:                        0.162   Durbin-Watson:                   1.792\n",
      "Prob(Omnibus):                  0.922   Jarque-Bera (JB):                0.013\n",
      "Skew:                           0.012   Prob(JB):                        0.993\n",
      "Kurtosis:                       3.044   Cond. No.                     1.24e+03\n",
      "==============================================================================\n",
      "\n",
      "Warnings:\n",
      "[1] Standard Errors assume that the covariance matrix of the errors is correctly specified.\n",
      "[2] The condition number is large, 1.24e+03. This might indicate that there are\n",
      "strong multicollinearity or other numerical problems.\n",
      "\n",
      "\n",
      "================================================================================\n",
      "The median absolute error for testing data set of RFS is: 40.748\n",
      "================================================================================\n"
     ]
    }
   ],
   "source": [
    "# LSQ\n",
    "lsq(X_train, y_train, X_test, y_test, outcome ='RFS')"
   ]
  },
  {
   "cell_type": "markdown",
   "metadata": {},
   "source": [
    "### Categorical Predictors only Linear Regression"
   ]
  },
  {
   "cell_type": "markdown",
   "metadata": {},
   "source": [
    "## ElasticNet"
   ]
  },
  {
   "cell_type": "code",
   "execution_count": 95,
   "metadata": {},
   "outputs": [
    {
     "name": "stdout",
     "output_type": "stream",
     "text": [
      "Fitting 10 folds for each of 684 candidates, totalling 6840 fits\n"
     ]
    },
    {
     "name": "stderr",
     "output_type": "stream",
     "text": [
      "[Parallel(n_jobs=-1)]: Done 496 tasks      | elapsed:    0.6s\n"
     ]
    },
    {
     "name": "stdout",
     "output_type": "stream",
     "text": [
      "\n",
      "\n",
      "================================================================================\n",
      "The median absolute error for testing data set of Alive is: 27.456\n",
      "================================================================================\n"
     ]
    },
    {
     "name": "stderr",
     "output_type": "stream",
     "text": [
      "[Parallel(n_jobs=-1)]: Done 6840 out of 6840 | elapsed:    3.5s finished\n"
     ]
    }
   ],
   "source": [
    "ElasticNet(X_train, y_train, X_test, y_test, outcome ='RFS')"
   ]
  },
  {
   "cell_type": "markdown",
   "metadata": {},
   "source": [
    "## SVM Regressor"
   ]
  },
  {
   "cell_type": "code",
   "execution_count": 65,
   "metadata": {},
   "outputs": [
    {
     "name": "stdout",
     "output_type": "stream",
     "text": [
      "Fitting 3 folds for each of 900 candidates, totalling 2700 fits\n"
     ]
    },
    {
     "name": "stderr",
     "output_type": "stream",
     "text": [
      "[Parallel(n_jobs=-1)]: Done 340 tasks      | elapsed:    0.6s\n",
      "[Parallel(n_jobs=-1)]: Done 2700 out of 2700 | elapsed:   13.1s finished\n"
     ]
    },
    {
     "name": "stdout",
     "output_type": "stream",
     "text": [
      "\n",
      "\n",
      "================================================================================\n",
      "The median absolute error for testing data set of Alive is: 29.363\n",
      "================================================================================\n"
     ]
    }
   ],
   "source": [
    "svr(X_train, y_train, X_test, y_test, outcome ='RFS')"
   ]
  },
  {
   "cell_type": "markdown",
   "metadata": {},
   "source": [
    "## Random Fores regressor"
   ]
  },
  {
   "cell_type": "code",
   "execution_count": null,
   "metadata": {
    "collapsed": true
   },
   "outputs": [],
   "source": []
  }
 ],
 "metadata": {
  "anaconda-cloud": {},
  "kernelspec": {
   "display_name": "Python [conda root]",
   "language": "python",
   "name": "conda-root-py"
  },
  "language_info": {
   "codemirror_mode": {
    "name": "ipython",
    "version": 3
   },
   "file_extension": ".py",
   "mimetype": "text/x-python",
   "name": "python",
   "nbconvert_exporter": "python",
   "pygments_lexer": "ipython3",
   "version": "3.5.2"
  }
 },
 "nbformat": 4,
 "nbformat_minor": 2
}
