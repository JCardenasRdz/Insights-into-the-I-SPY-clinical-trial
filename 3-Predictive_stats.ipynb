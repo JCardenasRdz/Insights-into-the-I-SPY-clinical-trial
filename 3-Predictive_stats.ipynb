{
 "cells": [
  {
   "cell_type": "markdown",
   "metadata": {},
   "source": [
    "<h1><center> Predictive statistics on the I-SPY1 Clinical Trial</center></h1>"
   ]
  },
  {
   "cell_type": "markdown",
   "metadata": {
    "collapsed": false
   },
   "source": [
    "### 0. Load modules"
   ]
  },
  {
   "cell_type": "code",
   "execution_count": 25,
   "metadata": {
    "collapsed": false
   },
   "outputs": [],
   "source": [
    "# import custom modules wrote by julio\n",
    "import importlib\n",
    "import seaborn as sns\n",
    "import pandas as pd\n",
    "RANDOM_STATE = 42; # for reproducibility\n",
    "import matplotlib.pyplot as plt\n",
    "%matplotlib inline\n",
    "import numpy as np\n",
    "from capstone_01 import clean_data\n",
    "from capstone_01 import predictive_statistics\n",
    "from sklearn.model_selection import train_test_split\n",
    "\n",
    "# reload modules without restartign the kernel (makes development easier)\n",
    "importlib.reload(clean_data);\n",
    "importlib.reload(predictive_statistics);"
   ]
  },
  {
   "cell_type": "markdown",
   "metadata": {},
   "source": [
    "### 1. Prepare Imbalanced Learning pipeline"
   ]
  },
  {
   "cell_type": "code",
   "execution_count": 26,
   "metadata": {
    "collapsed": true
   },
   "outputs": [],
   "source": [
    "from sklearn import metrics, tree\n",
    "from imblearn import over_sampling as os\n",
    "from imblearn import pipeline as pl\n",
    "\n",
    "def ADASYN(X,y,classifier, scorer):\n",
    "    # http://sci2s.ugr.es/keel/pdf/algorithm/congreso/2008-He-ieee.pdf\n",
    "    # ADASYN for inbalanced learning, this will over sample the class wit the fewest number of cases\n",
    "    adasyn = os.ADASYN(random_state=RANDOM_STATE)\n",
    "\n",
    "    # create pipeline\n",
    "    pipeline_classifier = pl.make_pipeline(adasyn, classifier)\n",
    "    \n",
    "    # optimize over this variable\n",
    "    train_scores, test_scores, ideal_par = predictive_statistics.validation_curve(pipeline_classifier,\n",
    "                                                                       X, y, \"adasyn__k\",scorer,\n",
    "                                                                       parameter_range = range(1,20),\n",
    "                                                                       c_v = 5)\n",
    "    # plot validation                                                                                                             \n",
    "    predictive_statistics.plot_validation_curve(train_scores, test_scores,\n",
    "                                     param_range = range(1,20), title = \"Validation Curve with ADASYN\",\n",
    "                                                                     xlabel = 'K neighbor', ylabel = 'Kappa') \n",
    "    \n",
    "    # change parameter into optimal value\n",
    "    pipeline_classifier.set_params(adasyn__k = ideal_par);\n",
    "    \n",
    "    return pipeline_classifier\n",
    "    \n",
    "def plot_feature_importance(X,labels, TreeClassifier, title =''):\n",
    "    predictor_num = np.arange(0,X.shape[1]);\n",
    "    \n",
    "    importance = TreeClassifier.feature_importances_\n",
    "    index = np.argsort(importance, axis = 0)\n",
    "    \n",
    "    plt.barh(predictor_num, importance[index]);\n",
    "    plt.yticks(index, labels);\n",
    "    plt.title(title);\n",
    "    plt.show()\n",
    "    "
   ]
  },
  {
   "cell_type": "markdown",
   "metadata": {},
   "source": [
    "### 2. clean, load, and format data"
   ]
  },
  {
   "cell_type": "code",
   "execution_count": 27,
   "metadata": {
    "collapsed": false
   },
   "outputs": [
    {
     "data": {
      "text/html": [
       "<div>\n",
       "<style>\n",
       "    .dataframe thead tr:only-child th {\n",
       "        text-align: right;\n",
       "    }\n",
       "\n",
       "    .dataframe thead th {\n",
       "        text-align: left;\n",
       "    }\n",
       "\n",
       "    .dataframe tbody tr th {\n",
       "        vertical-align: top;\n",
       "    }\n",
       "</style>\n",
       "<table border=\"1\" class=\"dataframe\">\n",
       "  <thead>\n",
       "    <tr style=\"text-align: right;\">\n",
       "      <th></th>\n",
       "      <th>age</th>\n",
       "      <th>White</th>\n",
       "      <th>ER+</th>\n",
       "      <th>PR+</th>\n",
       "      <th>HR+</th>\n",
       "      <th>Bilateral</th>\n",
       "      <th>Right_Breast</th>\n",
       "      <th>MRI_LD_Baseline</th>\n",
       "      <th>MRI_LD_1_3dAC</th>\n",
       "      <th>MRI_LD_Int_Reg</th>\n",
       "      <th>MRI_LD_PreSurg</th>\n",
       "      <th>Alive</th>\n",
       "      <th>Survival_length</th>\n",
       "      <th>RFS</th>\n",
       "      <th>RFS_code</th>\n",
       "      <th>PCR</th>\n",
       "      <th>RCB</th>\n",
       "    </tr>\n",
       "    <tr>\n",
       "      <th>SUBJECTID</th>\n",
       "      <th></th>\n",
       "      <th></th>\n",
       "      <th></th>\n",
       "      <th></th>\n",
       "      <th></th>\n",
       "      <th></th>\n",
       "      <th></th>\n",
       "      <th></th>\n",
       "      <th></th>\n",
       "      <th></th>\n",
       "      <th></th>\n",
       "      <th></th>\n",
       "      <th></th>\n",
       "      <th></th>\n",
       "      <th></th>\n",
       "      <th></th>\n",
       "      <th></th>\n",
       "    </tr>\n",
       "  </thead>\n",
       "  <tbody>\n",
       "    <tr>\n",
       "      <th>1001</th>\n",
       "      <td>38.73</td>\n",
       "      <td>Yes</td>\n",
       "      <td>Yes</td>\n",
       "      <td>No</td>\n",
       "      <td>Yes</td>\n",
       "      <td>No</td>\n",
       "      <td>No</td>\n",
       "      <td>88.0</td>\n",
       "      <td>78.0</td>\n",
       "      <td>30.0</td>\n",
       "      <td>14.0</td>\n",
       "      <td>No</td>\n",
       "      <td>1264</td>\n",
       "      <td>751</td>\n",
       "      <td>1</td>\n",
       "      <td>No</td>\n",
       "      <td>2.0</td>\n",
       "    </tr>\n",
       "    <tr>\n",
       "      <th>1002</th>\n",
       "      <td>37.79</td>\n",
       "      <td>Yes</td>\n",
       "      <td>Yes</td>\n",
       "      <td>Yes</td>\n",
       "      <td>Yes</td>\n",
       "      <td>No</td>\n",
       "      <td>Yes</td>\n",
       "      <td>29.0</td>\n",
       "      <td>26.0</td>\n",
       "      <td>66.0</td>\n",
       "      <td>16.0</td>\n",
       "      <td>No</td>\n",
       "      <td>1155</td>\n",
       "      <td>1043</td>\n",
       "      <td>1</td>\n",
       "      <td>No</td>\n",
       "      <td>3.0</td>\n",
       "    </tr>\n",
       "    <tr>\n",
       "      <th>1003</th>\n",
       "      <td>49.83</td>\n",
       "      <td>Yes</td>\n",
       "      <td>Yes</td>\n",
       "      <td>Yes</td>\n",
       "      <td>Yes</td>\n",
       "      <td>No</td>\n",
       "      <td>No</td>\n",
       "      <td>50.0</td>\n",
       "      <td>64.0</td>\n",
       "      <td>54.0</td>\n",
       "      <td>46.0</td>\n",
       "      <td>Yes</td>\n",
       "      <td>2387</td>\n",
       "      <td>2387</td>\n",
       "      <td>0</td>\n",
       "      <td>No</td>\n",
       "      <td>3.0</td>\n",
       "    </tr>\n",
       "  </tbody>\n",
       "</table>\n",
       "</div>"
      ],
      "text/plain": [
       "             age White  ER+  PR+  HR+ Bilateral Right_Breast  MRI_LD_Baseline  \\\n",
       "SUBJECTID                                                                       \n",
       "1001       38.73   Yes  Yes   No  Yes        No           No             88.0   \n",
       "1002       37.79   Yes  Yes  Yes  Yes        No          Yes             29.0   \n",
       "1003       49.83   Yes  Yes  Yes  Yes        No           No             50.0   \n",
       "\n",
       "           MRI_LD_1_3dAC  MRI_LD_Int_Reg  MRI_LD_PreSurg Alive  \\\n",
       "SUBJECTID                                                        \n",
       "1001                78.0            30.0            14.0    No   \n",
       "1002                26.0            66.0            16.0    No   \n",
       "1003                64.0            54.0            46.0   Yes   \n",
       "\n",
       "           Survival_length   RFS  RFS_code PCR  RCB  \n",
       "SUBJECTID                                            \n",
       "1001                  1264   751         1  No  2.0  \n",
       "1002                  1155  1043         1  No  3.0  \n",
       "1003                  2387  2387         0  No  3.0  "
      ]
     },
     "execution_count": 27,
     "metadata": {},
     "output_type": "execute_result"
    }
   ],
   "source": [
    "file = './raw_data/clinical/I-SPY_1_All_Patient_Clinical_and_Outcome_Data.xlsx'\n",
    "df = clean_data.clean_my_data(file)\n",
    "X_df = df.iloc[:,0:11]\n",
    "X_df.head(2)\n",
    "\n",
    "# allocate age alone (size issue)\n",
    "\n",
    "# allocate continous predictors\n",
    "mri_predictors = ['MRI_LD_Baseline', 'MRI_LD_1_3dAC', 'MRI_LD_Int_Reg', 'MRI_LD_PreSurg']\n",
    "X_mri = df[mri_predictors].values\n",
    "\n",
    "# allocate clinical predictors\n",
    "clinical_predictors = ['age','White', 'ER+', 'PR+', 'HR+'];\n",
    "X_clinical = pd.pandas.get_dummies(df[clinical_predictors], drop_first=True).values\n",
    "\n",
    "# allocate a single variable X\n",
    "X = np.concatenate( (X_clinical, X_mri), axis=1)\n",
    "\n",
    "#\n",
    "df.head(3)"
   ]
  },
  {
   "cell_type": "markdown",
   "metadata": {},
   "source": [
    "<h1><center> Prediction of categorical outcomes</center></h1>"
   ]
  },
  {
   "cell_type": "markdown",
   "metadata": {},
   "source": [
    "## 1.0 Pathological Complete Response (PCR)"
   ]
  },
  {
   "cell_type": "code",
   "execution_count": 93,
   "metadata": {
    "collapsed": false
   },
   "outputs": [
    {
     "data": {
      "image/png": "[encoded data removed]",
      "text/plain": [
       "<matplotlib.figure.Figure at 0x11553a9e8>"
      ]
     },
     "metadata": {},
     "output_type": "display_data"
    },
    {
     "data": {
      "image/png": "[encoded data removed]",
      "text/plain": [
       "<matplotlib.figure.Figure at 0x1168cfef0>"
      ]
     },
     "metadata": {},
     "output_type": "display_data"
    },
    {
     "name": "stdout",
     "output_type": "stream",
     "text": [
      "------------------------------------------------------------\n",
      "Observed Performance\n",
      "------------------------------------------------------------\n",
      "             precision    recall  f1-score   support\n",
      "\n",
      "          0       0.81      0.69      0.75        32\n",
      "          1       0.33      0.50      0.40        10\n",
      "\n",
      "avg / total       0.70      0.64      0.66        42\n",
      "\n",
      "------------------------------------------------------------\n",
      "Performance assuming  41 observations belong to the largest class\n",
      "------------------------------------------------------------\n",
      "             precision    recall  f1-score   support\n",
      "\n",
      "          0       0.76      0.97      0.85        32\n",
      "          1       0.00      0.00      0.00        10\n",
      "\n",
      "avg / total       0.58      0.74      0.65        42\n",
      "\n"
     ]
    },
    {
     "ename": "AttributeError",
     "evalue": "'LinearSVC' object has no attribute 'feature_importances_'",
     "output_type": "error",
     "traceback": [
      "\u001b[0;31m---------------------------------------------------------------------------\u001b[0m",
      "\u001b[0;31mAttributeError\u001b[0m                            Traceback (most recent call last)",
      "\u001b[0;32m<ipython-input-93-24079b94ea3c>\u001b[0m in \u001b[0;36m<module>\u001b[0;34m()\u001b[0m\n\u001b[1;32m     27\u001b[0m \u001b[0;31m# what is the importance of each predictor?\u001b[0m\u001b[0;34m\u001b[0m\u001b[0;34m\u001b[0m\u001b[0m\n\u001b[1;32m     28\u001b[0m \u001b[0mlabels\u001b[0m \u001b[0;34m=\u001b[0m \u001b[0mclinical_predictors\u001b[0m \u001b[0;34m+\u001b[0m \u001b[0mmri_predictors\u001b[0m\u001b[0;34m\u001b[0m\u001b[0m\n\u001b[0;32m---> 29\u001b[0;31m \u001b[0mplot_feature_importance\u001b[0m\u001b[0;34m(\u001b[0m\u001b[0mX\u001b[0m\u001b[0;34m,\u001b[0m\u001b[0mlabels\u001b[0m\u001b[0;34m,\u001b[0m \u001b[0mclf_opt\u001b[0m\u001b[0;34m.\u001b[0m\u001b[0msteps\u001b[0m\u001b[0;34m[\u001b[0m\u001b[0;36m1\u001b[0m\u001b[0;34m]\u001b[0m\u001b[0;34m[\u001b[0m\u001b[0;36m1\u001b[0m\u001b[0;34m]\u001b[0m\u001b[0;34m,\u001b[0m\u001b[0;34m'Feature importance for '\u001b[0m \u001b[0;34m+\u001b[0m \u001b[0moutcome\u001b[0m\u001b[0;34m)\u001b[0m\u001b[0;34m\u001b[0m\u001b[0m\n\u001b[0m",
      "\u001b[0;32m<ipython-input-26-1f356e73b21a>\u001b[0m in \u001b[0;36mplot_feature_importance\u001b[0;34m(X, labels, TreeClassifier, title)\u001b[0m\n\u001b[1;32m     29\u001b[0m     \u001b[0mpredictor_num\u001b[0m \u001b[0;34m=\u001b[0m \u001b[0mnp\u001b[0m\u001b[0;34m.\u001b[0m\u001b[0marange\u001b[0m\u001b[0;34m(\u001b[0m\u001b[0;36m0\u001b[0m\u001b[0;34m,\u001b[0m\u001b[0mX\u001b[0m\u001b[0;34m.\u001b[0m\u001b[0mshape\u001b[0m\u001b[0;34m[\u001b[0m\u001b[0;36m1\u001b[0m\u001b[0;34m]\u001b[0m\u001b[0;34m)\u001b[0m\u001b[0;34m;\u001b[0m\u001b[0;34m\u001b[0m\u001b[0m\n\u001b[1;32m     30\u001b[0m \u001b[0;34m\u001b[0m\u001b[0m\n\u001b[0;32m---> 31\u001b[0;31m     \u001b[0mimportance\u001b[0m \u001b[0;34m=\u001b[0m \u001b[0mTreeClassifier\u001b[0m\u001b[0;34m.\u001b[0m\u001b[0mfeature_importances_\u001b[0m\u001b[0;34m\u001b[0m\u001b[0m\n\u001b[0m\u001b[1;32m     32\u001b[0m     \u001b[0mindex\u001b[0m \u001b[0;34m=\u001b[0m \u001b[0mnp\u001b[0m\u001b[0;34m.\u001b[0m\u001b[0margsort\u001b[0m\u001b[0;34m(\u001b[0m\u001b[0mimportance\u001b[0m\u001b[0;34m,\u001b[0m \u001b[0maxis\u001b[0m \u001b[0;34m=\u001b[0m \u001b[0;36m0\u001b[0m\u001b[0;34m)\u001b[0m\u001b[0;34m\u001b[0m\u001b[0m\n\u001b[1;32m     33\u001b[0m \u001b[0;34m\u001b[0m\u001b[0m\n",
      "\u001b[0;31mAttributeError\u001b[0m: 'LinearSVC' object has no attribute 'feature_importances_'"
     ]
    }
   ],
   "source": [
    "# allocate  outcome \n",
    "outcome = 'PCR'\n",
    "y = predictive_statistics.labels_to_numbers(df, outcome)\n",
    "\n",
    "# split\n",
    "X_train, X_test, y_train, y_test = train_test_split(X, y, random_state=RANDOM_STATE)\n",
    "\n",
    "# choose classifier (DecisionTreeClassifier)\n",
    "clf = tree.DecisionTreeClassifier(random_state=RANDOM_STATE)\n",
    "\n",
    "# How inbalanced is the sample\n",
    "df[outcome].value_counts(normalize = True).plot.barh(); plt.title('Normalized Sample balance for ' + outcome);\n",
    "\n",
    "# optimize using kappa as scorer\n",
    "scorer = metrics.make_scorer(metrics.cohen_kappa_score)\n",
    "clf_opt = ADASYN(X,y,clf, scorer)\n",
    "\n",
    "# train with optimized parameters and predict\n",
    "clf_opt.fit(X_train, y_train)\n",
    "yhat = clf_opt.predict(X_test)\n",
    "\n",
    "# performance\n",
    "predictive_statistics.classification_report(y_test, yhat)\n",
    "\n",
    "# what is the importance of each predictor?\n",
    "labels = clinical_predictors + mri_predictors \n",
    "plot_feature_importance(X,labels, clf_opt.steps[1][1],'Feature importance for ' + outcome)"
   ]
  },
  {
   "cell_type": "code",
   "execution_count": 94,
   "metadata": {
    "collapsed": false
   },
   "outputs": [
    {
     "ename": "AttributeError",
     "evalue": "'LinearSVC' object has no attribute 'predict_proba'",
     "output_type": "error",
     "traceback": [
      "\u001b[0;31m---------------------------------------------------------------------------\u001b[0m",
      "\u001b[0;31mAttributeError\u001b[0m                            Traceback (most recent call last)",
      "\u001b[0;32m<ipython-input-94-612c9f59f244>\u001b[0m in \u001b[0;36m<module>\u001b[0;34m()\u001b[0m\n\u001b[0;32m----> 1\u001b[0;31m \u001b[0mtpr\u001b[0m\u001b[0;34m,\u001b[0m \u001b[0mfpr\u001b[0m\u001b[0;34m,\u001b[0m \u001b[0mthre\u001b[0m \u001b[0;34m=\u001b[0m \u001b[0mmetrics\u001b[0m\u001b[0;34m.\u001b[0m\u001b[0mroc_curve\u001b[0m\u001b[0;34m(\u001b[0m\u001b[0my_train\u001b[0m\u001b[0;34m,\u001b[0m \u001b[0mclf\u001b[0m\u001b[0;34m.\u001b[0m\u001b[0mpredict_proba\u001b[0m\u001b[0;34m(\u001b[0m\u001b[0mX_train\u001b[0m\u001b[0;34m)\u001b[0m\u001b[0;34m[\u001b[0m\u001b[0;34m:\u001b[0m\u001b[0;34m,\u001b[0m\u001b[0;36m1\u001b[0m\u001b[0;34m]\u001b[0m\u001b[0;34m,\u001b[0m \u001b[0mdrop_intermediate\u001b[0m \u001b[0;34m=\u001b[0m \u001b[0;32mTrue\u001b[0m\u001b[0;34m)\u001b[0m\u001b[0;34m\u001b[0m\u001b[0m\n\u001b[0m\u001b[1;32m      2\u001b[0m \u001b[0mplt\u001b[0m\u001b[0;34m.\u001b[0m\u001b[0mplot\u001b[0m\u001b[0;34m(\u001b[0m\u001b[0mtpr\u001b[0m\u001b[0;34m,\u001b[0m\u001b[0mfpr\u001b[0m\u001b[0;34m,\u001b[0m\u001b[0;34m'o-'\u001b[0m\u001b[0;34m)\u001b[0m\u001b[0;34m\u001b[0m\u001b[0m\n\u001b[1;32m      3\u001b[0m \u001b[0;34m\u001b[0m\u001b[0m\n\u001b[1;32m      4\u001b[0m \u001b[0mmetrics\u001b[0m\u001b[0;34m.\u001b[0m\u001b[0mroc_auc_score\u001b[0m\u001b[0;34m(\u001b[0m\u001b[0my_train\u001b[0m\u001b[0;34m,\u001b[0m \u001b[0mclf\u001b[0m\u001b[0;34m.\u001b[0m\u001b[0mpredict_proba\u001b[0m\u001b[0;34m(\u001b[0m\u001b[0mX_train\u001b[0m\u001b[0;34m)\u001b[0m\u001b[0;34m[\u001b[0m\u001b[0;34m:\u001b[0m\u001b[0;34m,\u001b[0m\u001b[0;36m1\u001b[0m\u001b[0;34m]\u001b[0m\u001b[0;34m)\u001b[0m\u001b[0;34m\u001b[0m\u001b[0m\n",
      "\u001b[0;31mAttributeError\u001b[0m: 'LinearSVC' object has no attribute 'predict_proba'"
     ]
    }
   ],
   "source": [
    "tpr, fpr, thre = metrics.roc_curve(y_train, clf.predict_proba(X_train)[:,1], drop_intermediate = True)\n",
    "plt.plot(tpr,fpr,'o-')\n",
    "\n",
    "metrics.roc_auc_score(y_train, clf.predict_proba(X_train)[:,1])"
   ]
  },
  {
   "cell_type": "code",
   "execution_count": 117,
   "metadata": {
    "collapsed": false
   },
   "outputs": [],
   "source": [
    "def classification_report(y_expected, yhat,X, clf):\n",
    "    from sklearn.calibration import CalibratedClassifierCV\n",
    "\n",
    "    index_largest_class = np.argmax(pd.Series(y_expected).value_counts().values)\n",
    "    index_smallest_class = np.argmin(pd.Series(y_expected).value_counts().values)\n",
    "    largest_class = pd.Series(y_expected).value_counts().index[index_largest_class]\n",
    "    small_class = pd.Series(y_expected).value_counts().index[index_smallest_class]\n",
    "\n",
    "    y_hat_crazy = np.zeros_like(yhat)\n",
    "    y_hat_crazy[:] = largest_class\n",
    "    y_hat_crazy[0] = small_class\n",
    "    size = y_hat_crazy.shape[0] - 1\n",
    "    \n",
    "    # Observed\n",
    "    CF = CalibratedClassifierCV( base_estimator = clf, method='sigmoid', cv=3)\n",
    "    CF.fit(X,yhat)\n",
    "    score = CF.predict_proba(X)\n",
    "    \n",
    "    tpr, fpr, thre = metrics.roc_curve(y_expected, score[:,1], drop_intermediate= False)\n",
    "\n",
    "    plt.plot(tpr,fpr,'o-')\n",
    "    plt.hold\n",
    "    \n",
    "    # Crazy \n",
    "    tpr, fpr, thre = metrics.roc_curve(y_expected, np.zeros_like(y_test), drop_intermediate=False)\n",
    "    plt.plot(tpr,fpr,'s-')\n",
    "    return y_hat_crazy\n",
    "    \n",
    "    "
   ]
  },
  {
   "cell_type": "code",
   "execution_count": 118,
   "metadata": {
    "collapsed": false
   },
   "outputs": [
    {
     "data": {
      "image/png": "[encoded data removed]",
      "text/plain": [
       "<matplotlib.figure.Figure at 0x1150755c0>"
      ]
     },
     "metadata": {},
     "output_type": "display_data"
    }
   ],
   "source": [
    "ycrazy = classification_report(y_test, yhat, X_test, clf_opt.steps[1][1])\n",
    "metrics.roc_curve?\n"
   ]
  },
  {
   "cell_type": "code",
   "execution_count": 95,
   "metadata": {
    "collapsed": false
   },
   "outputs": [
    {
     "data": {
      "text/plain": [
       "0.59375"
      ]
     },
     "execution_count": 95,
     "metadata": {},
     "output_type": "execute_result"
    },
    {
     "data": {
      "image/png": "[encoded data removed]",
      "text/plain": [
       "<matplotlib.figure.Figure at 0x11651dbe0>"
      ]
     },
     "metadata": {},
     "output_type": "display_data"
    }
   ],
   "source": [
    "from sklearn.calibration import CalibratedClassifierCV\n",
    "clf_final = clf_opt.steps[1][1]\n",
    "CF = CalibratedClassifierCV( base_estimator = clf_final, method='sigmoid', cv=3)\n",
    "CF.fit(X_train,y_train)\n",
    "score = CF.predict_proba(X_test)\n",
    "tpr, fpr, thre = metrics.roc_curve(y_test, score[:,1])\n",
    "plt.plot(tpr,fpr,'o-')\n",
    "metrics.roc_auc_score(y_test, score[:,1])"
   ]
  },
  {
   "cell_type": "code",
   "execution_count": 74,
   "metadata": {
    "collapsed": false
   },
   "outputs": [
    {
     "data": {
      "text/plain": [
       "<function matplotlib.pyplot.hold>"
      ]
     },
     "execution_count": 74,
     "metadata": {},
     "output_type": "execute_result"
    },
    {
     "data": {
      "image/png": "[encoded data removed]",
      "text/plain": [
       "<matplotlib.figure.Figure at 0x116614d68>"
      ]
     },
     "metadata": {},
     "output_type": "display_data"
    }
   ],
   "source": []
  },
  {
   "cell_type": "code",
   "execution_count": 72,
   "metadata": {
    "collapsed": false
   },
   "outputs": [
    {
     "data": {
      "text/plain": [
       "array([ 1.53097209,  0.53097209,  0.42379234,  0.40851411,  0.4005544 ,\n",
       "        0.30133436,  0.29337465,  0.17091666])"
      ]
     },
     "execution_count": 72,
     "metadata": {},
     "output_type": "execute_result"
    }
   ],
   "source": [
    "thre"
   ]
  },
  {
   "cell_type": "markdown",
   "metadata": {},
   "source": [
    "## 2.0  Survival (`Alive`)"
   ]
  },
  {
   "cell_type": "code",
   "execution_count": 5,
   "metadata": {
    "collapsed": false
   },
   "outputs": [
    {
     "data": {
      "image/png": "[encoded data removed]",
      "text/plain": [
       "<matplotlib.figure.Figure at 0x114dc2978>"
      ]
     },
     "metadata": {},
     "output_type": "display_data"
    },
    {
     "data": {
      "image/png": "[encoded data removed]",
      "text/plain": [
       "<matplotlib.figure.Figure at 0x114dc23c8>"
      ]
     },
     "metadata": {},
     "output_type": "display_data"
    },
    {
     "name": "stdout",
     "output_type": "stream",
     "text": [
      "------------------------------------------------------------\n",
      "Observed Performance\n",
      "------------------------------------------------------------\n",
      "             precision    recall  f1-score   support\n",
      "\n",
      "          0       0.78      0.78      0.78        32\n",
      "          1       0.30      0.30      0.30        10\n",
      "\n",
      "avg / total       0.67      0.67      0.67        42\n",
      "\n",
      "------------------------------------------------------------\n",
      "Performance assuming  41 observations belong to the largest class\n",
      "------------------------------------------------------------\n",
      "             precision    recall  f1-score   support\n",
      "\n",
      "          0       0.76      0.97      0.85        32\n",
      "          1       0.00      0.00      0.00        10\n",
      "\n",
      "avg / total       0.58      0.74      0.65        42\n",
      "\n"
     ]
    },
    {
     "data": {
      "image/png": "[encoded data removed]",
      "text/plain": [
       "<matplotlib.figure.Figure at 0x114ab4f98>"
      ]
     },
     "metadata": {},
     "output_type": "display_data"
    }
   ],
   "source": [
    "# allocate  outcome \n",
    "outcome ='Alive'\n",
    "y = predictive_statistics.labels_to_numbers(df, outcome)\n",
    "\n",
    "# How inbalanced is the sample\n",
    "df[outcome].value_counts(normalize = True).plot.barh(); plt.title('Normalized Sample balance for ' + outcome);\n",
    "\n",
    "# optimize using kappa as scorer\n",
    "scorer = metrics.make_scorer(metrics.cohen_kappa_score)\n",
    "\n",
    "clf_opt = ADASYN(X,y,clf, scorer)\n",
    "\n",
    "# train with optimized parameters and predict\n",
    "clf_opt.fit(X_train, y_train)\n",
    "yhat = clf_opt.predict(X_test)\n",
    "\n",
    "predictive_statistics.classification_report(y_test, yhat)\n",
    "# performance\n",
    "predictor_num = np.arange(0,X.shape[1]);\n",
    "plot_feature_importance(X,labels, clf_opt.steps[1][1],'Feature importance for ' + outcome)"
   ]
  },
  {
   "cell_type": "markdown",
   "metadata": {},
   "source": [
    "## 3.0  Recurrence Free Survival (`RFS`, Continous)"
   ]
  },
  {
   "cell_type": "code",
   "execution_count": 6,
   "metadata": {
    "collapsed": false
   },
   "outputs": [],
   "source": [
    "# allocate age alone (size issue)\n",
    "\n",
    "# allocate continous predictors\n",
    "cont_predictors = ['age','MRI_LD_Baseline', 'MRI_LD_1_3dAC', 'MRI_LD_Int_Reg', 'MRI_LD_PreSurg']\n",
    "contX = df[cont_predictors].values\n",
    "\n",
    "# allocate categorical predictors\n",
    "cat_pred = ['White', 'ER+', 'PR+', 'HR+'];\n",
    "catX = pd.pandas.get_dummies(df[cat_pred], drop_first=True).values\n",
    "\n",
    "# predictors\n",
    "X = np.concatenate( (catX, contX), axis=1)\n",
    "\n",
    "#outcome\n",
    "y = df.RFS.values; \n",
    "y = y/365"
   ]
  },
  {
   "cell_type": "code",
   "execution_count": 7,
   "metadata": {
    "collapsed": false
   },
   "outputs": [
    {
     "data": {
      "text/plain": [
       "<matplotlib.text.Text at 0x11580cbe0>"
      ]
     },
     "execution_count": 7,
     "metadata": {},
     "output_type": "execute_result"
    },
    {
     "data": {
      "image/png": "[encoded data removed]",
      "text/plain": [
       "<matplotlib.figure.Figure at 0x1156bbc50>"
      ]
     },
     "metadata": {},
     "output_type": "display_data"
    }
   ],
   "source": [
    "ax = sns.distplot(y, norm_hist = True)\n",
    "ax.set_xlabel('Recurrence-Free Survival (Years)')\n",
    "ax.set_ylabel('Density')"
   ]
  },
  {
   "cell_type": "markdown",
   "metadata": {},
   "source": [
    "### Categorical Predictors only Linear Regression"
   ]
  },
  {
   "cell_type": "code",
   "execution_count": 8,
   "metadata": {
    "collapsed": false
   },
   "outputs": [
    {
     "name": "stdout",
     "output_type": "stream",
     "text": [
      "                            OLS Regression Results                            \n",
      "==============================================================================\n",
      "Dep. Variable:                      y   R-squared:                       0.854\n",
      "Model:                            OLS   Adj. R-squared:                  0.842\n",
      "Method:                 Least Squares   F-statistic:                     75.85\n",
      "Date:                Thu, 08 Jun 2017   Prob (F-statistic):           1.28e-44\n",
      "Time:                        19:48:03   Log-Likelihood:                -233.10\n",
      "No. Observations:                 126   AIC:                             484.2\n",
      "Df Residuals:                     117   BIC:                             509.7\n",
      "Df Model:                           9                                         \n",
      "Covariance Type:            nonrobust                                         \n",
      "==============================================================================\n",
      "                 coef    std err          t      P>|t|      [0.025      0.975]\n",
      "------------------------------------------------------------------------------\n",
      "x1             0.1183      0.321      0.369      0.713      -0.518       0.754\n",
      "x2             1.8840      0.977      1.929      0.056      -0.051       3.819\n",
      "x3             0.2977      0.458      0.651      0.517      -0.609       1.204\n",
      "x4            -1.1545      1.077     -1.072      0.286      -3.288       0.979\n",
      "x5             0.0560      0.009      6.255      0.000       0.038       0.074\n",
      "x6             0.0169      0.010      1.660      0.100      -0.003       0.037\n",
      "x7            -0.0033      0.010     -0.319      0.750      -0.023       0.017\n",
      "x8            -0.0112      0.008     -1.420      0.158      -0.027       0.004\n",
      "x9            -0.0032      0.007     -0.443      0.659      -0.017       0.011\n",
      "==============================================================================\n",
      "Omnibus:                        0.253   Durbin-Watson:                   1.732\n",
      "Prob(Omnibus):                  0.881   Jarque-Bera (JB):                0.368\n",
      "Skew:                           0.097   Prob(JB):                        0.832\n",
      "Kurtosis:                       2.821   Cond. No.                     1.24e+03\n",
      "==============================================================================\n",
      "\n",
      "Warnings:\n",
      "[1] Standard Errors assume that the covariance matrix of the errors is correctly specified.\n",
      "[2] The condition number is large, 1.24e+03. This might indicate that there are\n",
      "strong multicollinearity or other numerical problems.\n"
     ]
    },
    {
     "name": "stderr",
     "output_type": "stream",
     "text": [
      "/Users/Julio/anaconda/lib/python3.5/site-packages/statsmodels/compat/pandas.py:56: FutureWarning: The pandas.core.datetools module is deprecated and will be removed in a future version. Please use the pandas.tseries module instead.\n",
      "  from pandas.core import datetools\n"
     ]
    },
    {
     "data": {
      "text/plain": [
       "1.1293049800977186"
      ]
     },
     "execution_count": 8,
     "metadata": {},
     "output_type": "execute_result"
    }
   ],
   "source": [
    "import statsmodels.api as sm\n",
    "mae = metrics.median_absolute_error\n",
    "# split\n",
    "X_train, X_test, y_train, y_test = train_test_split(X, y, random_state=RANDOM_STATE)\n",
    "\n",
    "# train\n",
    "OLS = sm.OLS(y_train,X_train).fit() ;\n",
    "print(OLS.summary())\n",
    "# test\n",
    "yhat = OLS.predict(X_test)\n",
    "\n",
    "# \n",
    "mae(y_test, yhat)"
   ]
  },
  {
   "cell_type": "code",
   "execution_count": 18,
   "metadata": {
    "collapsed": false
   },
   "outputs": [
    {
     "name": "stdout",
     "output_type": "stream",
     "text": [
      "Fitting 3 folds for each of 900 candidates, totalling 2700 fits\n"
     ]
    },
    {
     "name": "stderr",
     "output_type": "stream",
     "text": [
      "[Parallel(n_jobs=1)]: Done 2700 out of 2700 | elapsed:  1.7min finished\n"
     ]
    },
    {
     "data": {
      "text/plain": [
       "<function sklearn.metrics.regression.median_absolute_error>"
      ]
     },
     "execution_count": 18,
     "metadata": {},
     "output_type": "execute_result"
    }
   ],
   "source": [
    "from sklearn.svm import SVR\n",
    "from sklearn.model_selection import GridSearchCV\n",
    "\n",
    "# optimize using kappa as scorer\n",
    "scorer = metrics.make_scorer(metrics.median_absolute_error)\n",
    "\n",
    "# define regressor\n",
    "regressor =  SVR()\n",
    "\n",
    "# define parameter grid search\n",
    "grid = dict( kernel = ['rbf','linear','sigmoid'], \n",
    "             C = np.arange(1,11,1),\n",
    "             epsilon = np.arange(1,11,1),\n",
    "            gamma = np.linspace(1/10,10,3))\n",
    "grid_search=  GridSearchCV(  regressor, param_grid = grid, cv= 3, verbose=1, scoring = scorer, n_jobs = 1)\n",
    "\n",
    "# train\n",
    "grid_search.fit(X_train, y_train)\n",
    "\n",
    "# test\n",
    "sv_reg = grid_search.best_estimator_\n",
    "sv_reg.predict(X_test)\n",
    "metrics.median_absolute_error"
   ]
  },
  {
   "cell_type": "code",
   "execution_count": 19,
   "metadata": {
    "collapsed": false
   },
   "outputs": [
    {
     "data": {
      "text/plain": [
       "1.0438356164383564"
      ]
     },
     "execution_count": 19,
     "metadata": {},
     "output_type": "execute_result"
    }
   ],
   "source": [
    "metrics.median_absolute_error(sv_reg.predict(X_test), y_test)"
   ]
  },
  {
   "cell_type": "code",
   "execution_count": 20,
   "metadata": {
    "collapsed": false
   },
   "outputs": [
    {
     "data": {
      "text/plain": [
       "SVR(C=1, cache_size=200, coef0=0.0, degree=3, epsilon=2,\n",
       "  gamma=0.10000000000000001, kernel='sigmoid', max_iter=-1, shrinking=True,\n",
       "  tol=0.001, verbose=False)"
      ]
     },
     "execution_count": 20,
     "metadata": {},
     "output_type": "execute_result"
    }
   ],
   "source": [
    "sv_reg"
   ]
  },
  {
   "cell_type": "code",
   "execution_count": null,
   "metadata": {
    "collapsed": true
   },
   "outputs": [],
   "source": [
    "predictive_statistics."
   ]
  }
 ],
 "metadata": {
  "anaconda-cloud": {},
  "kernelspec": {
   "display_name": "Python [conda root]",
   "language": "python",
   "name": "conda-root-py"
  },
  "language_info": {
   "codemirror_mode": {
    "name": "ipython",
    "version": 3
   },
   "file_extension": ".py",
   "mimetype": "text/x-python",
   "name": "python",
   "nbconvert_exporter": "python",
   "pygments_lexer": "ipython3",
   "version": "3.5.2"
  }
 },
 "nbformat": 4,
 "nbformat_minor": 2
}
