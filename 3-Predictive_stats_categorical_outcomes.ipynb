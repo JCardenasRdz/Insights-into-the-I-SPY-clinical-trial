{
 "cells": [
  {
   "cell_type": "markdown",
   "metadata": {},
   "source": [
    "<h1><center> Predictive statistics on the I-SPY1 Clinical Trial</center></h1>"
   ]
  },
  {
   "cell_type": "markdown",
   "metadata": {},
   "source": [
    "### 0. Load modules and clean data"
   ]
  },
  {
   "cell_type": "code",
   "execution_count": 1,
   "metadata": {},
   "outputs": [
    {
     "data": {
      "text/html": [
       "<div>\n",
       "<style>\n",
       "    .dataframe thead tr:only-child th {\n",
       "        text-align: right;\n",
       "    }\n",
       "\n",
       "    .dataframe thead th {\n",
       "        text-align: left;\n",
       "    }\n",
       "\n",
       "    .dataframe tbody tr th {\n",
       "        vertical-align: top;\n",
       "    }\n",
       "</style>\n",
       "<table border=\"1\" class=\"dataframe\">\n",
       "  <thead>\n",
       "    <tr style=\"text-align: right;\">\n",
       "      <th></th>\n",
       "      <th>SUBJECTID</th>\n",
       "      <th>age</th>\n",
       "      <th>White</th>\n",
       "      <th>ER+</th>\n",
       "      <th>PR+</th>\n",
       "      <th>HR+</th>\n",
       "      <th>Bilateral</th>\n",
       "      <th>Right_Breast</th>\n",
       "      <th>MRI_LD_Baseline</th>\n",
       "      <th>MRI_LD_1_3dAC</th>\n",
       "      <th>MRI_LD_Int_Reg</th>\n",
       "      <th>MRI_LD_PreSurg</th>\n",
       "      <th>Alive</th>\n",
       "      <th>Survival_length</th>\n",
       "      <th>RFS</th>\n",
       "      <th>RFS_code</th>\n",
       "      <th>PCR</th>\n",
       "      <th>RCB</th>\n",
       "    </tr>\n",
       "  </thead>\n",
       "  <tbody>\n",
       "    <tr>\n",
       "      <th>0</th>\n",
       "      <td>1001</td>\n",
       "      <td>38.73</td>\n",
       "      <td>Yes</td>\n",
       "      <td>Yes</td>\n",
       "      <td>No</td>\n",
       "      <td>Yes</td>\n",
       "      <td>No</td>\n",
       "      <td>No</td>\n",
       "      <td>88.0</td>\n",
       "      <td>78.0</td>\n",
       "      <td>30.0</td>\n",
       "      <td>14.0</td>\n",
       "      <td>No</td>\n",
       "      <td>1264</td>\n",
       "      <td>751</td>\n",
       "      <td>1</td>\n",
       "      <td>No</td>\n",
       "      <td>2.0</td>\n",
       "    </tr>\n",
       "    <tr>\n",
       "      <th>1</th>\n",
       "      <td>1002</td>\n",
       "      <td>37.79</td>\n",
       "      <td>Yes</td>\n",
       "      <td>Yes</td>\n",
       "      <td>Yes</td>\n",
       "      <td>Yes</td>\n",
       "      <td>No</td>\n",
       "      <td>Yes</td>\n",
       "      <td>29.0</td>\n",
       "      <td>26.0</td>\n",
       "      <td>66.0</td>\n",
       "      <td>16.0</td>\n",
       "      <td>No</td>\n",
       "      <td>1155</td>\n",
       "      <td>1043</td>\n",
       "      <td>1</td>\n",
       "      <td>No</td>\n",
       "      <td>3.0</td>\n",
       "    </tr>\n",
       "  </tbody>\n",
       "</table>\n",
       "</div>"
      ],
      "text/plain": [
       "   SUBJECTID    age White  ER+  PR+  HR+ Bilateral Right_Breast  \\\n",
       "0       1001  38.73   Yes  Yes   No  Yes        No           No   \n",
       "1       1002  37.79   Yes  Yes  Yes  Yes        No          Yes   \n",
       "\n",
       "   MRI_LD_Baseline  MRI_LD_1_3dAC  MRI_LD_Int_Reg  MRI_LD_PreSurg Alive  \\\n",
       "0             88.0           78.0            30.0            14.0    No   \n",
       "1             29.0           26.0            66.0            16.0    No   \n",
       "\n",
       "   Survival_length   RFS  RFS_code PCR  RCB  \n",
       "0             1264   751         1  No  2.0  \n",
       "1             1155  1043         1  No  3.0  "
      ]
     },
     "execution_count": 1,
     "metadata": {},
     "output_type": "execute_result"
    }
   ],
   "source": [
    "# import custom modules wrote by julio\n",
    "import pandas as pd\n",
    "import numpy as np\n",
    "RANDOM_STATE = 42; # for reproducibility\n",
    "import matplotlib.pyplot as plt\n",
    "%matplotlib inline\n",
    "\n",
    "\n",
    "from ispy1 import predictive_statistics\n",
    "\n",
    "from sklearn.model_selection import train_test_split, GridSearchCV\n",
    "from sklearn import metrics, linear_model \n",
    "from imblearn import over_sampling, pipeline \n",
    "\n",
    "# reload modules without restartign the kernel (makes development easier)\n",
    "import importlib\n",
    "importlib.reload(predictive_statistics);\n",
    "\n",
    "df = pd.read_csv('./data/I-SPY_1_clean_data.csv')\n",
    "df.head(2)"
   ]
  },
  {
   "cell_type": "markdown",
   "metadata": {},
   "source": [
    "<h1><center> Prediction of categorical outcomes</center></h1>"
   ]
  },
  {
   "cell_type": "markdown",
   "metadata": {},
   "source": [
    "## 1.0 Pathological Complete Response (PCR)"
   ]
  },
  {
   "cell_type": "code",
   "execution_count": 2,
   "metadata": {},
   "outputs": [
    {
     "data": {
      "image/png": "[encoded data removed]",
      "text/plain": [
       "<matplotlib.figure.Figure at 0x113e59908>"
      ]
     },
     "metadata": {},
     "output_type": "display_data"
    }
   ],
   "source": [
    "# allocate continous predictors\n",
    "cont_predictors = ['age','MRI_LD_Baseline', 'MRI_LD_1_3dAC', 'MRI_LD_Int_Reg', 'MRI_LD_PreSurg']\n",
    "X_cont = df[cont_predictors].values\n",
    "\n",
    "# allocate clinical predictors\n",
    "cat_predictors = ['White', 'ER+', 'PR+', 'HR+'];\n",
    "X_cat = pd.pandas.get_dummies(df[cat_predictors], drop_first=True).values\n",
    "\n",
    "# allocate a single predictors matrix X\n",
    "X = np.concatenate( (X_cont, X_cat), axis=1)\n",
    "\n",
    "# allocate  outcome \n",
    "outcome = 'PCR'\n",
    "y = predictive_statistics.labels_to_numbers(df, outcome);\n",
    "\n",
    "# check how unbalanced the data are\n",
    "df[outcome].value_counts(normalize = True).plot.barh();\n",
    "plt.title('Normalized Sample size for PCR')\n",
    "plt.xlabel('group size (%)');\n",
    "plt.savefig('Sample_Size_PCR.png')"
   ]
  },
  {
   "cell_type": "code",
   "execution_count": 12,
   "metadata": {
    "collapsed": true
   },
   "outputs": [],
   "source": [
    "def binary_classifier_metrics(classifier, Xtrain, Ytrain, Xtest, Ytest):\n",
    "    # metrics\n",
    "    predicted_class = classifier.predict(Xtest)\n",
    "    kappa = metrics.cohen_kappa_score(Ytest,predicted_class)\n",
    "    auc = metrics.roc_auc_score(Ytest,predicted_class)\n",
    "            \n",
    "    # ROC curve\n",
    "    probability = classifier.predict_proba(Xtest)\n",
    "    fpr, tpr, _  = metrics.roc_curve(Ytest, probability[:,1])\n",
    "    # report \n",
    "    print(metrics.classification_report(Ytest,predicted_class))\n",
    "     \n",
    "    return np.round(auc,3), np.round(kappa,3), fpr, tpr\n",
    "\n",
    "\n",
    "# perform Logistic Regression without correcting for unbalance\n",
    "def LogisticRegression(Xdata, Ydata, oversample = True):\n",
    "    \n",
    "    # split data\n",
    "    X_train, X_test, y_train, y_test = train_test_split(Xdata, Ydata, random_state=RANDOM_STATE)\n",
    "    \n",
    "    # train and tune parameters using GridSearchCV\n",
    "    pars= dict(   C = np.arange(.01,100,.1) )\n",
    "    \n",
    "    grid =  GridSearchCV(  linear_model.LogisticRegression(), param_grid = pars, \n",
    "                           scoring = metrics.make_scorer(metrics.roc_auc_score), \n",
    "                           cv= 5, verbose = 0, n_jobs = -1)\n",
    "        \n",
    "    # fit\n",
    "    grid.fit(X_train,y_train)\n",
    "    \n",
    "    # metrics\n",
    "    auc, kappa, fpr, tpr = binary_classifier_metrics(grid, X_train, y_train, X_test, y_test)\n",
    "    \n",
    "    # output\n",
    "    return auc, kappa, fpr, tpr \n",
    "\n",
    "# Random Forest Regressor\n",
    "from sklearn.ensemble import RandomForestClassifier as RFC\n",
    "\n",
    "def RandomForestClassifier(Xdata, Ydata):\n",
    "    # split data\n",
    "    X_train, X_test, y_train, y_test = train_test_split(Xdata, Ydata, random_state=RANDOM_STATE)\n",
    "        \n",
    "    # define parameter grid search\n",
    "    pars = dict(    n_estimators = np.arange(5,50,5), \n",
    "                    max_features = np.arange(1, X.shape[1], 1),\n",
    "                    max_depth = [None, 1, 2, 3, 4, 5])\n",
    "    \n",
    "    # perform grid search\n",
    "    grid=  GridSearchCV(RFC( random_state = RANDOM_STATE),param_grid = pars, \n",
    "                           scoring = metrics.make_scorer(metrics.roc_auc_score), \n",
    "                           cv= 3, verbose = 0, n_jobs = -1)\n",
    "    \n",
    "    # fit\n",
    "    grid.fit(X_train,y_train)\n",
    "    \n",
    "    # metrics\n",
    "    auc, kappa, fpr, tpr = binary_classifier_metrics(grid, X_train, y_train, X_test, y_test)\n",
    "    \n",
    "    # output\n",
    "    return auc, kappa, fpr, tpr \n",
    "\n",
    "def plot_compare_roc(fpr1_, tpr1_,fpr2_, tpr2_, auc1, auc2, outcome_legend = ' '):\n",
    "    plt.plot(fpr1_, tpr1_, fpr2_, tpr2_);\n",
    "    plt.legend(['Unbalanced | AUC = ' + str(auc1),'Oversampled | AUC = ' + str(auc2)]);\n",
    "    plt.xlabel('False-positive rate');\n",
    "    plt.ylabel('True-positive rate');\n",
    "    plt.title('Effect of oversampling on Logistic Regression for '+ outcome_legend);\n"
   ]
  },
  {
   "cell_type": "code",
   "execution_count": 14,
   "metadata": {},
   "outputs": [
    {
     "name": "stdout",
     "output_type": "stream",
     "text": [
      "             precision    recall  f1-score   support\n",
      "\n",
      "          0       0.76      0.88      0.81        32\n",
      "          1       0.20      0.10      0.13        10\n",
      "\n",
      "avg / total       0.62      0.69      0.65        42\n",
      "\n",
      "The estimated Cohen kappa is -0.03\n"
     ]
    }
   ],
   "source": [
    "# standard\n",
    "auc1, kappa1, fpr1, tpr1 = LogisticRegression(X, y)\n",
    "print('The estimated Cohen kappa is ' + str(kappa1))"
   ]
  },
  {
   "cell_type": "code",
   "execution_count": 15,
   "metadata": {},
   "outputs": [
    {
     "name": "stdout",
     "output_type": "stream",
     "text": [
      "             precision    recall  f1-score   support\n",
      "\n",
      "          0       0.78      0.91      0.84        32\n",
      "          1       0.40      0.20      0.27        10\n",
      "\n",
      "avg / total       0.69      0.74      0.70        42\n",
      "\n",
      "The estimated Cohen kappa is -0.03\n"
     ]
    }
   ],
   "source": [
    "auc2, kappa2, fpr2, tpr2 = RandomForestClassifier(X, y)\n",
    "print('The estimated Cohen kappa is ' + str(kappa1))"
   ]
  },
  {
   "cell_type": "code",
   "execution_count": null,
   "metadata": {
    "collapsed": true
   },
   "outputs": [],
   "source": [
    "# unbalanced learning\n",
    "ubl = over_sampling.SMOTE(random_state = RANDOM_STATE, k_neighbors = 3)\n",
    "X_resampled, y_resampled = ubl.fit_sample(X,y)\n",
    "\n",
    "auc2, kappa2, fpr2, tpr2 = LogisticRegression(X_resampled, y_resampled, scorer = 'auc')\n",
    "print('The estimated Cohen kappa is ' + str(kappa2))"
   ]
  },
  {
   "cell_type": "code",
   "execution_count": 16,
   "metadata": {},
   "outputs": [
    {
     "data": {
      "image/png": "[encoded data removed]",
      "text/plain": [
       "<matplotlib.figure.Figure at 0x113eeecc0>"
      ]
     },
     "metadata": {},
     "output_type": "display_data"
    }
   ],
   "source": [
    "plot_compare_roc(fpr1, tpr1,fpr2, tpr2, auc1, auc2, outcome_legend = ' ')"
   ]
  },
  {
   "cell_type": "code",
   "execution_count": null,
   "metadata": {
    "collapsed": true
   },
   "outputs": [],
   "source": [
    "plt.plot(fpr1, tpr1,fpr2, tpr2);\n",
    "plt.legend(['Unbalanced | AUC = ' + str(auc1),'Oversampled | AUC = ' + str(auc2)]);\n",
    "plt.xlabel('False-positive rate');\n",
    "plt.ylabel('True-positive rate');\n",
    "plt.title('Effect of oversampling on Logistic Regression for PCR');\n",
    "plt.savefig('ROC_curve_PCR.png')"
   ]
  },
  {
   "cell_type": "markdown",
   "metadata": {},
   "source": [
    "## 2.0 Survival (`Alive`)"
   ]
  },
  {
   "cell_type": "code",
   "execution_count": null,
   "metadata": {
    "collapsed": true
   },
   "outputs": [],
   "source": [
    "# allocate  outcome \n",
    "outcome = 'Alive'\n",
    "y = predictive_statistics.labels_to_numbers(df, outcome);\n",
    "\n",
    "# check how unbalanced the data are\n",
    "df[outcome].value_counts(normalize = True).plot.barh();\n",
    "plt.title('Normalized Sample size for Alive')\n",
    "plt.xlabel('group size (%)');\n",
    "plt.savefig('Sample_Size_Alive.png')"
   ]
  },
  {
   "cell_type": "code",
   "execution_count": null,
   "metadata": {
    "collapsed": true
   },
   "outputs": [],
   "source": [
    "# standard\n",
    "auc1, kappa1, fpr1, tpr1 = LogisticRegression(X, y)\n",
    "print('The estimated Cohen kappa is ' + str(kappa1))"
   ]
  },
  {
   "cell_type": "code",
   "execution_count": null,
   "metadata": {
    "collapsed": true
   },
   "outputs": [],
   "source": [
    "# oversample\n",
    "ubl = over_sampling.SMOTE(random_state = RANDOM_STATE, k_neighbors = 10)\n",
    "#split\n",
    "X_resampled, y_resampled = ubl.fit_sample(X,y)\n",
    "#fit\n",
    "auc2, kappa2, fpr2, tpr2 = LogisticRegression(X_resampled, y_resampled)\n",
    "print('The estimated Cohen kappa is ' + str(kappa2))"
   ]
  },
  {
   "cell_type": "code",
   "execution_count": null,
   "metadata": {
    "collapsed": true
   },
   "outputs": [],
   "source": [
    "plt.plot(fpr1, tpr1,fpr2, tpr2);\n",
    "plt.legend(['Unbalanced | AUC = ' + str(auc1),'Oversampled | AUC = ' + str(auc2)]);\n",
    "plt.xlabel('False-positive rate');\n",
    "plt.ylabel('True-positive rate');\n",
    "plt.title('Effect of oversampling on Logistic Regression for Alive');\n",
    "plt.savefig('ROC_curve_Alive.png')"
   ]
  },
  {
   "cell_type": "markdown",
   "metadata": {},
   "source": [
    "## 3.0 Survival (`Alive`) including PCR as predictor"
   ]
  },
  {
   "cell_type": "code",
   "execution_count": null,
   "metadata": {
    "collapsed": true
   },
   "outputs": [],
   "source": [
    "# allocate new variable\n",
    "pcr = predictive_statistics.labels_to_numbers(df, 'PCR').reshape(168,1)\n",
    "newX = np.concatenate((X,pcr), axis  = 1)"
   ]
  },
  {
   "cell_type": "code",
   "execution_count": null,
   "metadata": {
    "collapsed": true
   },
   "outputs": [],
   "source": [
    "# regular logistic regression\n",
    "auc1, kappa1, fpr1, tpr1 = LogisticRegression(newX, y, scorer = 'nada')\n",
    "print('The estimated Cohen kappa is ' + str(kappa2))"
   ]
  },
  {
   "cell_type": "code",
   "execution_count": null,
   "metadata": {
    "collapsed": true
   },
   "outputs": [],
   "source": [
    "# oversample\n",
    "ubl = over_sampling.SMOTE(random_state = RANDOM_STATE, k_neighbors = 31)\n",
    "#split\n",
    "X_resampled, y_resampled = ubl.fit_sample(newX,y)\n",
    "#fit\n",
    "auc2, kappa2, fpr2, tpr2 = LogisticRegression(X_resampled, y_resampled)\n",
    "print('The estimated Cohen kappa is ' + str(kappa2))"
   ]
  },
  {
   "cell_type": "code",
   "execution_count": null,
   "metadata": {
    "collapsed": true
   },
   "outputs": [],
   "source": [
    "plt.plot(fpr1, tpr1,fpr2, tpr2);\n",
    "plt.legend(['Unbalanced | AUC = ' + str(auc1),'Oversampled | AUC = ' + str(auc2)]);\n",
    "plt.xlabel('False-positive rate');\n",
    "plt.ylabel('True-positive rate');\n",
    "plt.title('Effect of oversampling on Logistic Regression for Alive + PCR predicotr');\n",
    "plt.savefig('ROC_curve_Alive_plus_PCR.png')"
   ]
  },
  {
   "cell_type": "markdown",
   "metadata": {},
   "source": [
    "## 4.0 Survival (`Alive`) including `RCB` as predictor"
   ]
  },
  {
   "cell_type": "code",
   "execution_count": null,
   "metadata": {
    "collapsed": true
   },
   "outputs": [],
   "source": [
    "rcb = pd.get_dummies(df['RCB']).values\n",
    "newX = np.concatenate((X,rcb), axis  = 1)\n",
    "newX = X_cont[:,1:4]\n",
    "newX"
   ]
  },
  {
   "cell_type": "code",
   "execution_count": null,
   "metadata": {
    "collapsed": true
   },
   "outputs": [],
   "source": [
    "# regular logistic regression\n",
    "auc1, kappa1, fpr1, tpr1 = LogisticRegression(newX, y)\n",
    "print('The estimated Cohen kappa is ' + str(kappa2))"
   ]
  },
  {
   "cell_type": "code",
   "execution_count": null,
   "metadata": {
    "collapsed": true
   },
   "outputs": [],
   "source": [
    "# oversample\n",
    "ubl = over_sampling.SMOTE(random_state = RANDOM_STATE, k_neighbors = 31)\n",
    "#split\n",
    "X_resampled, y_resampled = ubl.fit_sample(newX,y)\n",
    "#fit\n",
    "auc2, kappa2, fpr2, tpr2 = LogisticRegression(X_resampled, y_resampled)\n",
    "print('The estimated Cohen kappa is ' + str(kappa2))"
   ]
  },
  {
   "cell_type": "code",
   "execution_count": null,
   "metadata": {
    "collapsed": true
   },
   "outputs": [],
   "source": [
    "plt.plot(fpr1, tpr1,fpr2, tpr2);\n",
    "plt.legend(['Unbalanced | AUC = ' + str(auc1),'Oversampled | AUC = ' + str(auc2)]);\n",
    "plt.xlabel('False-positive rate');\n",
    "plt.ylabel('True-positive rate');\n",
    "plt.title('Effect of oversampling on Logistic Regression for Alive');"
   ]
  },
  {
   "cell_type": "code",
   "execution_count": null,
   "metadata": {
    "collapsed": true
   },
   "outputs": [],
   "source": [
    "X"
   ]
  },
  {
   "cell_type": "code",
   "execution_count": null,
   "metadata": {
    "collapsed": true
   },
   "outputs": [],
   "source": [
    "y"
   ]
  },
  {
   "cell_type": "code",
   "execution_count": null,
   "metadata": {
    "collapsed": true
   },
   "outputs": [],
   "source": [
    "X_resampled[X_resampled < 0]\n"
   ]
  },
  {
   "cell_type": "code",
   "execution_count": null,
   "metadata": {
    "collapsed": true
   },
   "outputs": [],
   "source": [
    "import seaborn.apionly as sns \n",
    "from sklearn import feature_selection\n",
    "\n",
    "# allocate  outcome \n",
    "outcome = 'Alive'\n",
    "y = predictive_statistics.labels_to_numbers(df, outcome);\n",
    "predictor_list = cont_predictors + cat_predictors\n",
    "\n",
    "# over sapmple\n",
    "ubl = over_sampling.SMOTE(random_state = RANDOM_STATE, k_neighbors = 3)\n",
    "X_resampled, y_resampled = ubl.fit_sample( X,y)\n",
    "\n",
    "# chi-square\n",
    "chi2, pval = feature_selection.chi2(X_resampled, y_resampled)\n",
    "\n",
    "plt.barh(range(1,len(chi2)+1),pval);\n",
    "plt.yticks(range(1,len(chi2)+1), predictor_list);"
   ]
  },
  {
   "cell_type": "code",
   "execution_count": null,
   "metadata": {
    "collapsed": true
   },
   "outputs": [],
   "source": []
  },
  {
   "cell_type": "code",
   "execution_count": null,
   "metadata": {
    "collapsed": true
   },
   "outputs": [],
   "source": []
  },
  {
   "cell_type": "code",
   "execution_count": null,
   "metadata": {
    "collapsed": true
   },
   "outputs": [],
   "source": [
    "import seaborn.apionly as sns \n",
    "from sklearn import feature_selection\n",
    "\n",
    "# allocate  outcome \n",
    "outcome = 'Alive'\n",
    "y = predictive_statistics.labels_to_numbers(df, outcome);\n",
    "l = cont_predictors + cat_predictors\n",
    "\n",
    "# over sapmple\n",
    "ubl = over_sampling.SMOTE(random_state = RANDOM_STATE, k_neighbors = 3)\n",
    "X_resampled, y_resampled = ubl.fit_sample(X,y)\n",
    "\n",
    "# chi-square\n",
    "chi2, pval = feature_selection.chi2(X_resampled, y_resampled)\n",
    "plt.barh(range(1,10),chi2);\n",
    "plt.yticks(range(1,10), l);"
   ]
  },
  {
   "cell_type": "code",
   "execution_count": null,
   "metadata": {
    "collapsed": true
   },
   "outputs": [],
   "source": [
    "yn= predictive_statistics.labels_to_numbers(df, 'PCR').reshape(168,1)\n",
    "X_with_pcr = np.concatenate( (X,yn), axis = 1)\n",
    "X_resampled, y_resampled = ubl.fit_sample(X_with_pcr,y)\n",
    "# chi-square\n",
    "chi2, pval = feature_selection.chi2(X_resampled, y_resampled)\n",
    "plt.barh(range(1,11),chi2);\n",
    "plt.yticks(range(1,11), l + ['PCR']);"
   ]
  },
  {
   "cell_type": "code",
   "execution_count": null,
   "metadata": {
    "collapsed": true
   },
   "outputs": [],
   "source": []
  },
  {
   "cell_type": "code",
   "execution_count": null,
   "metadata": {
    "collapsed": true
   },
   "outputs": [],
   "source": []
  },
  {
   "cell_type": "code",
   "execution_count": null,
   "metadata": {
    "collapsed": true
   },
   "outputs": [],
   "source": []
  },
  {
   "cell_type": "markdown",
   "metadata": {},
   "source": [
    "<h1><center> Prediction of continous outcomes</center></h1>"
   ]
  },
  {
   "cell_type": "markdown",
   "metadata": {},
   "source": [
    "## Prepare functions"
   ]
  },
  {
   "cell_type": "code",
   "execution_count": null,
   "metadata": {
    "collapsed": true
   },
   "outputs": [],
   "source": [
    "# metrics\n",
    "mae = metrics.median_absolute_error\n",
    "\n",
    "def mae_report(Ytest, Yhat, outcome_):\n",
    "    error = mae(Ytest, Yhat)\n",
    "    error = np.round( error, decimals=3)\n",
    "    # report\n",
    "    print('\\n' )\n",
    "    print('==' *40)\n",
    "    print('The median absolute error for testing data set of ' + outcome_ + ' is: ' + str(error))\n",
    "    print('==' *40)\n",
    "\n",
    "def train_test_report(predictor, Xtrain, Ytrain, Xtest, Ytest, outcome):\n",
    "    # train\n",
    "    predictor.fit(Xtrain, Ytrain)\n",
    "    # test\n",
    "    Yhat = predictor.predict(Xtest)\n",
    "    # report\n",
    "    mae_report(Ytest, Yhat, outcome)\n",
    "    \n",
    "# lsq \n",
    "import statsmodels.api as sm\n",
    "def lsq(Xtrain,Ytrain, Xtest, Ytest, outcome =''):\n",
    "    # train\n",
    "    OLS = sm.OLS(Ytrain,Xtrain).fit();\n",
    "    print(OLS.summary())\n",
    "    #test\n",
    "    Yhat = OLS.predict(Xtest)\n",
    "    # report\n",
    "    mae_report(Ytest, Yhat, outcome)\n",
    "\n",
    "# SVR    \n",
    "from sklearn.svm import SVR\n",
    "from sklearn.model_selection import GridSearchCV   \n",
    "\n",
    "# GridSearchCV utility\n",
    "def gridsearch(regressor, grid):\n",
    "    optimized_regressor=  GridSearchCV(  regressor, \n",
    "                               param_grid = grid, \n",
    "                               cv= 3, verbose = 0, n_jobs = -1,\n",
    "                               scoring = metrics.make_scorer(metrics.median_absolute_error))\n",
    "    \n",
    "    return optimized_regressor\n",
    "    \n",
    "\n",
    "\n",
    "def svr(Xtrain,Ytrain, Xtest, Ytest, outcome = ''):\n",
    "    # define regressor\n",
    "    regressor =  SVR()\n",
    "    # define parameter grid search\n",
    "    grid = dict(       kernel = ['rbf','linear','sigmoid'], \n",
    "                       C = np.arange(1,11,1),\n",
    "                       epsilon = np.arange(1,11,1),\n",
    "                       gamma = np.linspace(1/10,10,3))\n",
    "    # perform grid search\n",
    "    grid_search=  gridsearch(regressor, grid)\n",
    "    \n",
    "    # train, test, and report\n",
    "    train_test_report(grid_search, Xtrain, Ytrain, Xtest, Ytest, outcome)\n",
    "\n",
    "    \n",
    "# ElasticNet\n",
    "from sklearn.linear_model import ElasticNet as ENet\n",
    "\n",
    "def ElasticNet(Xtrain,Ytrain, Xtest, Ytest, outcome = ''):\n",
    "    # define regressor\n",
    "    regressor =  ENet(max_iter=5000)\n",
    "    # define parameter grid search\n",
    "    grid = dict(   alpha = np.arange(1,20,.5), l1_ratio = np.arange(.1,1,.05))\n",
    "    # perform grid search\n",
    "    grid_search=  gridsearch(regressor, grid)\n",
    "    # train, test, and report\n",
    "    train_test_report(grid_search, Xtrain, Ytrain, Xtest, Ytest, outcome)\n",
    "    \n",
    "\n",
    "# Random Forest Regressor\n",
    "from sklearn.ensemble import RandomForestRegressor as RFR\n",
    "\n",
    "def RandomForestRegressor(Xtrain,Ytrain, Xtest, Ytest, outcome = ''):\n",
    "    # define regressor\n",
    "    regressor =  RFR( criterion='mse', random_state = RANDOM_STATE)\n",
    "    \n",
    "    #\n",
    "    num_features = Xtrain.shape[1]\n",
    "    \n",
    "    # define parameter grid search\n",
    "    grid = dict(    n_estimators = np.arange(5,100,5), \n",
    "                    max_features = np.arange(1,num_features, 1),\n",
    "                    max_depth = [None, 1, 2, 3, 4, 5])\n",
    "    \n",
    "    # perform grid search\n",
    "    grid_search=  gridsearch(regressor, grid)\n",
    "    \n",
    "    # train, test, and report\n",
    "    train_test_report(grid_search, Xtrain, Ytrain, Xtest, Ytest, outcome)\n",
    "    "
   ]
  },
  {
   "cell_type": "markdown",
   "metadata": {},
   "source": [
    "## Organize predictors in the right format and split data"
   ]
  },
  {
   "cell_type": "code",
   "execution_count": null,
   "metadata": {
    "collapsed": true
   },
   "outputs": [],
   "source": [
    "# allocate continous predictors\n",
    "cont_predictors = ['age','MRI_LD_Baseline', 'MRI_LD_1_3dAC', 'MRI_LD_Int_Reg', 'MRI_LD_PreSurg']\n",
    "contX = df[cont_predictors].values\n",
    "\n",
    "# allocate categorical predictors\n",
    "cat_pred = ['PCR','White', 'ER+', 'PR+', 'HR+'];\n",
    "catX = pd.pandas.get_dummies(df[cat_pred], drop_first=True).values\n",
    "\n",
    "# concatenate predictors\n",
    "X = np.concatenate( (catX, contX), axis=1)\n",
    "\n",
    "#outcome\n",
    "y = df.RFS.values / 30; # conver to months\n",
    "\n",
    "#split\n",
    "X_train, X_test, y_train, y_test = train_test_split(X, y, random_state=RANDOM_STATE)"
   ]
  },
  {
   "cell_type": "markdown",
   "metadata": {},
   "source": [
    "## 1.0 Recurrence-Free Survival (`RFS`, Continous in months)"
   ]
  },
  {
   "cell_type": "code",
   "execution_count": null,
   "metadata": {
    "collapsed": true
   },
   "outputs": [],
   "source": [
    "# LSQ\n",
    "lsq(X_train, y_train, X_test, y_test, outcome =' Recurrence-Free Survival (months)')"
   ]
  },
  {
   "cell_type": "markdown",
   "metadata": {},
   "source": [
    "### Categorical Predictors only Linear Regression"
   ]
  },
  {
   "cell_type": "markdown",
   "metadata": {},
   "source": [
    "## ElasticNet"
   ]
  },
  {
   "cell_type": "code",
   "execution_count": null,
   "metadata": {
    "collapsed": true
   },
   "outputs": [],
   "source": [
    "ElasticNet(X_train, y_train, X_test, y_test, outcome =' Recurrence-Free Survival (months)')"
   ]
  },
  {
   "cell_type": "markdown",
   "metadata": {},
   "source": [
    "## SVM Regressor"
   ]
  },
  {
   "cell_type": "code",
   "execution_count": null,
   "metadata": {
    "collapsed": true
   },
   "outputs": [],
   "source": [
    "svr(X_train, y_train, X_test, y_test, outcome =' Recurrence-Free Survival (months)')"
   ]
  },
  {
   "cell_type": "markdown",
   "metadata": {},
   "source": [
    "## Random Fores regressor"
   ]
  },
  {
   "cell_type": "code",
   "execution_count": null,
   "metadata": {
    "collapsed": true
   },
   "outputs": [],
   "source": [
    "RandomForestRegressor(X_train, y_train, X_test, y_test, outcome =' Recurrence-Free Survival (months)')"
   ]
  },
  {
   "cell_type": "markdown",
   "metadata": {},
   "source": [
    "## 2.0  Survival Length (`Survival_length`, Continous, months)"
   ]
  },
  {
   "cell_type": "code",
   "execution_count": null,
   "metadata": {
    "collapsed": true
   },
   "outputs": [],
   "source": [
    "y = df.Survival_length.values / 30\n",
    "#split\n",
    "X_train, X_test, y_train, y_test = train_test_split(X, y, random_state=RANDOM_STATE)"
   ]
  },
  {
   "cell_type": "code",
   "execution_count": null,
   "metadata": {
    "collapsed": true
   },
   "outputs": [],
   "source": [
    "# # LSQ\n",
    "lsq(X_train, y_train, X_test, y_test, outcome ='Survival_length (months)')"
   ]
  },
  {
   "cell_type": "code",
   "execution_count": null,
   "metadata": {
    "collapsed": true
   },
   "outputs": [],
   "source": [
    "svr(X_train, y_train, X_test, y_test, outcome ='Survival length (months)')"
   ]
  },
  {
   "cell_type": "code",
   "execution_count": null,
   "metadata": {
    "collapsed": true
   },
   "outputs": [],
   "source": [
    "ElasticNet(X_train, y_train, X_test, y_test, outcome = 'Survival length (months)')"
   ]
  },
  {
   "cell_type": "code",
   "execution_count": null,
   "metadata": {
    "collapsed": true
   },
   "outputs": [],
   "source": []
  }
 ],
 "metadata": {
  "anaconda-cloud": {},
  "kernelspec": {
   "display_name": "Python [conda root]",
   "language": "python",
   "name": "conda-root-py"
  },
  "language_info": {
   "codemirror_mode": {
    "name": "ipython",
    "version": 3
   },
   "file_extension": ".py",
   "mimetype": "text/x-python",
   "name": "python",
   "nbconvert_exporter": "python",
   "pygments_lexer": "ipython3",
   "version": "3.5.2"
  }
 },
 "nbformat": 4,
 "nbformat_minor": 2
}
